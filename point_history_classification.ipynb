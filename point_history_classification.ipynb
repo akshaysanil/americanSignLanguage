{
 "cells": [
  {
   "cell_type": "code",
   "execution_count": 3,
   "metadata": {},
   "outputs": [
    {
     "name": "stderr",
     "output_type": "stream",
     "text": [
      "2022-12-10 20:54:11.759298: I tensorflow/core/platform/cpu_feature_guard.cc:193] This TensorFlow binary is optimized with oneAPI Deep Neural Network Library (oneDNN) to use the following CPU instructions in performance-critical operations:  AVX2 AVX512F AVX512_VNNI FMA\n",
      "To enable them in other operations, rebuild TensorFlow with the appropriate compiler flags.\n",
      "2022-12-10 20:54:11.860964: I tensorflow/core/util/port.cc:104] oneDNN custom operations are on. You may see slightly different numerical results due to floating-point round-off errors from different computation orders. To turn them off, set the environment variable `TF_ENABLE_ONEDNN_OPTS=0`.\n",
      "2022-12-10 20:54:11.863572: W tensorflow/compiler/xla/stream_executor/platform/default/dso_loader.cc:64] Could not load dynamic library 'libcudart.so.11.0'; dlerror: libcudart.so.11.0: cannot open shared object file: No such file or directory\n",
      "2022-12-10 20:54:11.863585: I tensorflow/compiler/xla/stream_executor/cuda/cudart_stub.cc:29] Ignore above cudart dlerror if you do not have a GPU set up on your machine.\n",
      "2022-12-10 20:54:12.320406: W tensorflow/compiler/xla/stream_executor/platform/default/dso_loader.cc:64] Could not load dynamic library 'libnvinfer.so.7'; dlerror: libnvinfer.so.7: cannot open shared object file: No such file or directory\n",
      "2022-12-10 20:54:12.320499: W tensorflow/compiler/xla/stream_executor/platform/default/dso_loader.cc:64] Could not load dynamic library 'libnvinfer_plugin.so.7'; dlerror: libnvinfer_plugin.so.7: cannot open shared object file: No such file or directory\n",
      "2022-12-10 20:54:12.320506: W tensorflow/compiler/tf2tensorrt/utils/py_utils.cc:38] TF-TRT Warning: Cannot dlopen some TensorRT libraries. If you would like to use Nvidia GPU with TensorRT, please make sure the missing libraries mentioned above are installed properly.\n"
     ]
    }
   ],
   "source": [
    "import csv\n",
    "\n",
    "import numpy as np\n",
    "import tensorflow as tf\n",
    "from sklearn.model_selection import train_test_split\n",
    "\n",
    "RANDOM_SEED = 42"
   ]
  },
  {
   "cell_type": "markdown",
   "metadata": {},
   "source": [
    "# 各パス指定"
   ]
  },
  {
   "cell_type": "code",
   "execution_count": 4,
   "metadata": {},
   "outputs": [],
   "source": [
    "dataset = 'model/point_history_classifier/point_history.csv'\n",
    "model_save_path = 'model/point_history_classifier/point_history_classifier.hdf5'"
   ]
  },
  {
   "cell_type": "markdown",
   "metadata": {},
   "source": [
    "# 分類数設定"
   ]
  },
  {
   "cell_type": "code",
   "execution_count": 5,
   "metadata": {},
   "outputs": [],
   "source": [
    "NUM_CLASSES = 4"
   ]
  },
  {
   "cell_type": "markdown",
   "metadata": {},
   "source": [
    "# 入力長"
   ]
  },
  {
   "cell_type": "code",
   "execution_count": 6,
   "metadata": {},
   "outputs": [],
   "source": [
    "TIME_STEPS = 16\n",
    "DIMENSION = 2"
   ]
  },
  {
   "cell_type": "markdown",
   "metadata": {},
   "source": [
    "# 学習データ読み込み"
   ]
  },
  {
   "cell_type": "code",
   "execution_count": 7,
   "metadata": {},
   "outputs": [],
   "source": [
    "X_dataset = np.loadtxt(dataset, delimiter=',', dtype='float32', usecols=list(range(1, (TIME_STEPS * DIMENSION) + 1)))"
   ]
  },
  {
   "cell_type": "code",
   "execution_count": 8,
   "metadata": {},
   "outputs": [],
   "source": [
    "y_dataset = np.loadtxt(dataset, delimiter=',', dtype='int32', usecols=(0))"
   ]
  },
  {
   "cell_type": "code",
   "execution_count": 9,
   "metadata": {},
   "outputs": [],
   "source": [
    "X_train, X_test, y_train, y_test = train_test_split(X_dataset, y_dataset, train_size=0.75, random_state=RANDOM_SEED)"
   ]
  },
  {
   "cell_type": "markdown",
   "metadata": {},
   "source": [
    "# モデル構築"
   ]
  },
  {
   "cell_type": "code",
   "execution_count": 10,
   "metadata": {},
   "outputs": [
    {
     "name": "stderr",
     "output_type": "stream",
     "text": [
      "2022-12-10 20:54:34.176523: W tensorflow/compiler/xla/stream_executor/platform/default/dso_loader.cc:64] Could not load dynamic library 'libcuda.so.1'; dlerror: libcuda.so.1: cannot open shared object file: No such file or directory\n",
      "2022-12-10 20:54:34.176556: W tensorflow/compiler/xla/stream_executor/cuda/cuda_driver.cc:265] failed call to cuInit: UNKNOWN ERROR (303)\n",
      "2022-12-10 20:54:34.176573: I tensorflow/compiler/xla/stream_executor/cuda/cuda_diagnostics.cc:156] kernel driver does not appear to be running on this host (akshay-Mi-NoteBook-Ultra): /proc/driver/nvidia/version does not exist\n",
      "2022-12-10 20:54:34.176792: I tensorflow/core/platform/cpu_feature_guard.cc:193] This TensorFlow binary is optimized with oneAPI Deep Neural Network Library (oneDNN) to use the following CPU instructions in performance-critical operations:  AVX2 AVX512F AVX512_VNNI FMA\n",
      "To enable them in other operations, rebuild TensorFlow with the appropriate compiler flags.\n"
     ]
    }
   ],
   "source": [
    "use_lstm = False\n",
    "model = None\n",
    "\n",
    "if use_lstm:\n",
    "    model = tf.keras.models.Sequential([\n",
    "        tf.keras.layers.InputLayer(input_shape=(TIME_STEPS * DIMENSION, )),\n",
    "        tf.keras.layers.Reshape((TIME_STEPS, DIMENSION), input_shape=(TIME_STEPS * DIMENSION, )), \n",
    "        tf.keras.layers.Dropout(0.2),\n",
    "        tf.keras.layers.LSTM(16, input_shape=[TIME_STEPS, DIMENSION]),\n",
    "        tf.keras.layers.Dropout(0.5),\n",
    "        tf.keras.layers.Dense(10, activation='relu'),\n",
    "        tf.keras.layers.Dense(NUM_CLASSES, activation='softmax')\n",
    "    ])\n",
    "else:\n",
    "    model = tf.keras.models.Sequential([\n",
    "        tf.keras.layers.InputLayer(input_shape=(TIME_STEPS * DIMENSION, )),\n",
    "        tf.keras.layers.Dropout(0.2),\n",
    "        tf.keras.layers.Dense(24, activation='relu'),\n",
    "        tf.keras.layers.Dropout(0.5),\n",
    "        tf.keras.layers.Dense(10, activation='relu'),\n",
    "        tf.keras.layers.Dense(NUM_CLASSES, activation='softmax')\n",
    "    ])"
   ]
  },
  {
   "cell_type": "code",
   "execution_count": 11,
   "metadata": {},
   "outputs": [
    {
     "name": "stdout",
     "output_type": "stream",
     "text": [
      "Model: \"sequential\"\n",
      "_________________________________________________________________\n",
      " Layer (type)                Output Shape              Param #   \n",
      "=================================================================\n",
      " dropout (Dropout)           (None, 32)                0         \n",
      "                                                                 \n",
      " dense (Dense)               (None, 24)                792       \n",
      "                                                                 \n",
      " dropout_1 (Dropout)         (None, 24)                0         \n",
      "                                                                 \n",
      " dense_1 (Dense)             (None, 10)                250       \n",
      "                                                                 \n",
      " dense_2 (Dense)             (None, 5)                 55        \n",
      "                                                                 \n",
      "=================================================================\n",
      "Total params: 1,097\n",
      "Trainable params: 1,097\n",
      "Non-trainable params: 0\n",
      "_________________________________________________________________\n"
     ]
    }
   ],
   "source": [
    "model.summary()  # tf.keras.utils.plot_model(model, show_shapes=True)"
   ]
  },
  {
   "cell_type": "code",
   "execution_count": 12,
   "metadata": {},
   "outputs": [],
   "source": [
    "# モデルチェックポイントのコールバック\n",
    "cp_callback = tf.keras.callbacks.ModelCheckpoint(\n",
    "    model_save_path, verbose=1, save_weights_only=False)\n",
    "# 早期打ち切り用コールバック\n",
    "es_callback = tf.keras.callbacks.EarlyStopping(patience=20, verbose=1)"
   ]
  },
  {
   "cell_type": "code",
   "execution_count": 13,
   "metadata": {},
   "outputs": [],
   "source": [
    "# モデルコンパイル\n",
    "model.compile(\n",
    "    optimizer='adam',\n",
    "    loss='sparse_categorical_crossentropy',\n",
    "    metrics=['accuracy']\n",
    ")"
   ]
  },
  {
   "cell_type": "markdown",
   "metadata": {},
   "source": [
    "# モデル訓練"
   ]
  },
  {
   "cell_type": "code",
   "execution_count": 14,
   "metadata": {
    "scrolled": true
   },
   "outputs": [
    {
     "name": "stdout",
     "output_type": "stream",
     "text": [
      "Epoch 1/1000\n",
      " 1/32 [..............................] - ETA: 11s - loss: 1.6285 - accuracy: 0.1172\n",
      "Epoch 1: saving model to model/point_history_classifier/point_history_classifier.hdf5\n",
      "32/32 [==============================] - 1s 5ms/step - loss: 1.5958 - accuracy: 0.2032 - val_loss: 1.5786 - val_accuracy: 0.2598\n",
      "Epoch 2/1000\n",
      " 1/32 [..............................] - ETA: 0s - loss: 1.5745 - accuracy: 0.2344\n",
      "Epoch 2: saving model to model/point_history_classifier/point_history_classifier.hdf5\n",
      "32/32 [==============================] - 0s 3ms/step - loss: 1.5524 - accuracy: 0.2555 - val_loss: 1.5314 - val_accuracy: 0.2470\n",
      "Epoch 3/1000\n",
      " 1/32 [..............................] - ETA: 0s - loss: 1.5211 - accuracy: 0.2422\n",
      "Epoch 3: saving model to model/point_history_classifier/point_history_classifier.hdf5\n",
      "32/32 [==============================] - 0s 2ms/step - loss: 1.5047 - accuracy: 0.2528 - val_loss: 1.4839 - val_accuracy: 0.2470\n",
      "Epoch 4/1000\n",
      " 1/32 [..............................] - ETA: 0s - loss: 1.5023 - accuracy: 0.2266\n",
      "Epoch 4: saving model to model/point_history_classifier/point_history_classifier.hdf5\n",
      "32/32 [==============================] - 0s 2ms/step - loss: 1.4598 - accuracy: 0.2523 - val_loss: 1.4394 - val_accuracy: 0.2470\n",
      "Epoch 5/1000\n",
      " 1/32 [..............................] - ETA: 0s - loss: 1.4339 - accuracy: 0.2500\n",
      "Epoch 5: saving model to model/point_history_classifier/point_history_classifier.hdf5\n",
      "32/32 [==============================] - 0s 2ms/step - loss: 1.4209 - accuracy: 0.2523 - val_loss: 1.3988 - val_accuracy: 0.2470\n",
      "Epoch 6/1000\n",
      " 1/32 [..............................] - ETA: 0s - loss: 1.3849 - accuracy: 0.2656\n",
      "Epoch 6: saving model to model/point_history_classifier/point_history_classifier.hdf5\n",
      "32/32 [==============================] - 0s 2ms/step - loss: 1.3809 - accuracy: 0.2508 - val_loss: 1.3578 - val_accuracy: 0.2447\n",
      "Epoch 7/1000\n",
      " 1/32 [..............................] - ETA: 0s - loss: 1.3529 - accuracy: 0.2344\n",
      "Epoch 7: saving model to model/point_history_classifier/point_history_classifier.hdf5\n",
      "32/32 [==============================] - 0s 2ms/step - loss: 1.3405 - accuracy: 0.2611 - val_loss: 1.3166 - val_accuracy: 0.2568\n",
      "Epoch 8/1000\n",
      " 1/32 [..............................] - ETA: 0s - loss: 1.3642 - accuracy: 0.1875\n",
      "Epoch 8: saving model to model/point_history_classifier/point_history_classifier.hdf5\n",
      "32/32 [==============================] - 0s 2ms/step - loss: 1.3044 - accuracy: 0.3640 - val_loss: 1.2750 - val_accuracy: 0.4909\n",
      "Epoch 9/1000\n",
      " 1/32 [..............................] - ETA: 0s - loss: 1.3020 - accuracy: 0.4453\n",
      "Epoch 9: saving model to model/point_history_classifier/point_history_classifier.hdf5\n",
      "32/32 [==============================] - 0s 2ms/step - loss: 1.2650 - accuracy: 0.4877 - val_loss: 1.2332 - val_accuracy: 0.6050\n",
      "Epoch 10/1000\n",
      " 1/32 [..............................] - ETA: 0s - loss: 1.2068 - accuracy: 0.5547\n",
      "Epoch 10: saving model to model/point_history_classifier/point_history_classifier.hdf5\n",
      "32/32 [==============================] - 0s 2ms/step - loss: 1.2277 - accuracy: 0.6047 - val_loss: 1.1870 - val_accuracy: 0.6805\n",
      "Epoch 11/1000\n",
      " 1/32 [..............................] - ETA: 0s - loss: 1.1884 - accuracy: 0.6797\n",
      "Epoch 11: saving model to model/point_history_classifier/point_history_classifier.hdf5\n",
      "32/32 [==============================] - 0s 2ms/step - loss: 1.1870 - accuracy: 0.6211 - val_loss: 1.1405 - val_accuracy: 0.7236\n",
      "Epoch 12/1000\n",
      " 1/32 [..............................] - ETA: 0s - loss: 1.1369 - accuracy: 0.5859\n",
      "Epoch 12: saving model to model/point_history_classifier/point_history_classifier.hdf5\n",
      "32/32 [==============================] - 0s 2ms/step - loss: 1.1357 - accuracy: 0.6697 - val_loss: 1.0890 - val_accuracy: 0.8044\n",
      "Epoch 13/1000\n",
      " 1/32 [..............................] - ETA: 0s - loss: 1.1293 - accuracy: 0.6719\n",
      "Epoch 13: saving model to model/point_history_classifier/point_history_classifier.hdf5\n",
      "32/32 [==============================] - 0s 2ms/step - loss: 1.1044 - accuracy: 0.6722 - val_loss: 1.0385 - val_accuracy: 0.8338\n",
      "Epoch 14/1000\n",
      " 1/32 [..............................] - ETA: 0s - loss: 1.0239 - accuracy: 0.7031\n",
      "Epoch 14: saving model to model/point_history_classifier/point_history_classifier.hdf5\n",
      "32/32 [==============================] - 0s 2ms/step - loss: 1.0709 - accuracy: 0.6830 - val_loss: 0.9886 - val_accuracy: 0.8535\n",
      "Epoch 15/1000\n",
      " 1/32 [..............................] - ETA: 0s - loss: 1.0152 - accuracy: 0.6797\n",
      "Epoch 15: saving model to model/point_history_classifier/point_history_classifier.hdf5\n",
      "32/32 [==============================] - 0s 2ms/step - loss: 1.0191 - accuracy: 0.7022 - val_loss: 0.9375 - val_accuracy: 0.8822\n",
      "Epoch 16/1000\n",
      " 1/32 [..............................] - ETA: 0s - loss: 1.0303 - accuracy: 0.7344\n",
      "Epoch 16: saving model to model/point_history_classifier/point_history_classifier.hdf5\n",
      "32/32 [==============================] - 0s 2ms/step - loss: 0.9894 - accuracy: 0.7135 - val_loss: 0.8878 - val_accuracy: 0.9071\n",
      "Epoch 17/1000\n",
      " 1/32 [..............................] - ETA: 0s - loss: 0.9235 - accuracy: 0.7109\n",
      "Epoch 17: saving model to model/point_history_classifier/point_history_classifier.hdf5\n",
      "32/32 [==============================] - 0s 3ms/step - loss: 0.9467 - accuracy: 0.7271 - val_loss: 0.8408 - val_accuracy: 0.9147\n",
      "Epoch 18/1000\n",
      " 1/32 [..............................] - ETA: 0s - loss: 0.9623 - accuracy: 0.7656\n",
      "Epoch 18: saving model to model/point_history_classifier/point_history_classifier.hdf5\n",
      "32/32 [==============================] - 0s 2ms/step - loss: 0.9275 - accuracy: 0.7213 - val_loss: 0.7971 - val_accuracy: 0.9169\n",
      "Epoch 19/1000\n",
      " 1/32 [..............................] - ETA: 0s - loss: 0.8837 - accuracy: 0.7109\n",
      "Epoch 19: saving model to model/point_history_classifier/point_history_classifier.hdf5\n",
      "32/32 [==============================] - 0s 2ms/step - loss: 0.8831 - accuracy: 0.7341 - val_loss: 0.7561 - val_accuracy: 0.9192\n",
      "Epoch 20/1000\n",
      " 1/32 [..............................] - ETA: 0s - loss: 0.8106 - accuracy: 0.8203\n",
      "Epoch 20: saving model to model/point_history_classifier/point_history_classifier.hdf5\n",
      "32/32 [==============================] - 0s 2ms/step - loss: 0.8572 - accuracy: 0.7369 - val_loss: 0.7152 - val_accuracy: 0.9282\n",
      "Epoch 21/1000\n",
      " 1/32 [..............................] - ETA: 0s - loss: 0.7784 - accuracy: 0.8359\n",
      "Epoch 21: saving model to model/point_history_classifier/point_history_classifier.hdf5\n",
      "32/32 [==============================] - 0s 2ms/step - loss: 0.8425 - accuracy: 0.7289 - val_loss: 0.6780 - val_accuracy: 0.9222\n",
      "Epoch 22/1000\n",
      " 1/32 [..............................] - ETA: 0s - loss: 0.8150 - accuracy: 0.7266\n",
      "Epoch 22: saving model to model/point_history_classifier/point_history_classifier.hdf5\n",
      "32/32 [==============================] - 0s 2ms/step - loss: 0.8104 - accuracy: 0.7364 - val_loss: 0.6472 - val_accuracy: 0.9298\n",
      "Epoch 23/1000\n",
      " 1/32 [..............................] - ETA: 0s - loss: 0.7938 - accuracy: 0.6953\n",
      "Epoch 23: saving model to model/point_history_classifier/point_history_classifier.hdf5\n",
      "32/32 [==============================] - 0s 2ms/step - loss: 0.7897 - accuracy: 0.7442 - val_loss: 0.6171 - val_accuracy: 0.9298\n",
      "Epoch 24/1000\n",
      " 1/32 [..............................] - ETA: 0s - loss: 0.7778 - accuracy: 0.7500\n",
      "Epoch 24: saving model to model/point_history_classifier/point_history_classifier.hdf5\n",
      "32/32 [==============================] - 0s 2ms/step - loss: 0.7683 - accuracy: 0.7477 - val_loss: 0.5897 - val_accuracy: 0.9290\n",
      "Epoch 25/1000\n",
      " 1/32 [..............................] - ETA: 0s - loss: 0.7121 - accuracy: 0.7422\n",
      "Epoch 25: saving model to model/point_history_classifier/point_history_classifier.hdf5\n",
      "32/32 [==============================] - 0s 2ms/step - loss: 0.7457 - accuracy: 0.7477 - val_loss: 0.5654 - val_accuracy: 0.9328\n",
      "Epoch 26/1000\n",
      " 1/32 [..............................] - ETA: 0s - loss: 0.6970 - accuracy: 0.7969\n",
      "Epoch 26: saving model to model/point_history_classifier/point_history_classifier.hdf5\n",
      "32/32 [==============================] - 0s 2ms/step - loss: 0.7333 - accuracy: 0.7545 - val_loss: 0.5428 - val_accuracy: 0.9298\n",
      "Epoch 27/1000\n"
     ]
    },
    {
     "name": "stdout",
     "output_type": "stream",
     "text": [
      " 1/32 [..............................] - ETA: 0s - loss: 0.8186 - accuracy: 0.7266\n",
      "Epoch 27: saving model to model/point_history_classifier/point_history_classifier.hdf5\n",
      "32/32 [==============================] - 0s 2ms/step - loss: 0.7256 - accuracy: 0.7528 - val_loss: 0.5290 - val_accuracy: 0.9350\n",
      "Epoch 28/1000\n",
      " 1/32 [..............................] - ETA: 0s - loss: 0.6978 - accuracy: 0.7734\n",
      "Epoch 28: saving model to model/point_history_classifier/point_history_classifier.hdf5\n",
      "32/32 [==============================] - 0s 2ms/step - loss: 0.7043 - accuracy: 0.7573 - val_loss: 0.5091 - val_accuracy: 0.9358\n",
      "Epoch 29/1000\n",
      " 1/32 [..............................] - ETA: 0s - loss: 0.6913 - accuracy: 0.7422\n",
      "Epoch 29: saving model to model/point_history_classifier/point_history_classifier.hdf5\n",
      "32/32 [==============================] - 0s 2ms/step - loss: 0.6911 - accuracy: 0.7651 - val_loss: 0.4929 - val_accuracy: 0.9388\n",
      "Epoch 30/1000\n",
      " 1/32 [..............................] - ETA: 0s - loss: 0.5916 - accuracy: 0.8203\n",
      "Epoch 30: saving model to model/point_history_classifier/point_history_classifier.hdf5\n",
      "32/32 [==============================] - 0s 2ms/step - loss: 0.6951 - accuracy: 0.7581 - val_loss: 0.4813 - val_accuracy: 0.9434\n",
      "Epoch 31/1000\n",
      " 1/32 [..............................] - ETA: 0s - loss: 0.6504 - accuracy: 0.7422\n",
      "Epoch 31: saving model to model/point_history_classifier/point_history_classifier.hdf5\n",
      "32/32 [==============================] - 0s 3ms/step - loss: 0.6832 - accuracy: 0.7633 - val_loss: 0.4693 - val_accuracy: 0.9373\n",
      "Epoch 32/1000\n",
      " 1/32 [..............................] - ETA: 0s - loss: 0.6311 - accuracy: 0.7734\n",
      "Epoch 32: saving model to model/point_history_classifier/point_history_classifier.hdf5\n",
      "32/32 [==============================] - 0s 3ms/step - loss: 0.6701 - accuracy: 0.7613 - val_loss: 0.4597 - val_accuracy: 0.9396\n",
      "Epoch 33/1000\n",
      " 1/32 [..............................] - ETA: 0s - loss: 0.7256 - accuracy: 0.7266\n",
      "Epoch 33: saving model to model/point_history_classifier/point_history_classifier.hdf5\n",
      "32/32 [==============================] - 0s 2ms/step - loss: 0.6507 - accuracy: 0.7777 - val_loss: 0.4469 - val_accuracy: 0.9388\n",
      "Epoch 34/1000\n",
      " 1/32 [..............................] - ETA: 0s - loss: 0.6910 - accuracy: 0.7734\n",
      "Epoch 34: saving model to model/point_history_classifier/point_history_classifier.hdf5\n",
      "32/32 [==============================] - 0s 2ms/step - loss: 0.6524 - accuracy: 0.7717 - val_loss: 0.4374 - val_accuracy: 0.9434\n",
      "Epoch 35/1000\n",
      " 1/32 [..............................] - ETA: 0s - loss: 0.6205 - accuracy: 0.7891\n",
      "Epoch 35: saving model to model/point_history_classifier/point_history_classifier.hdf5\n",
      "32/32 [==============================] - 0s 2ms/step - loss: 0.6438 - accuracy: 0.7732 - val_loss: 0.4270 - val_accuracy: 0.9411\n",
      "Epoch 36/1000\n",
      " 1/32 [..............................] - ETA: 0s - loss: 0.5897 - accuracy: 0.8203\n",
      "Epoch 36: saving model to model/point_history_classifier/point_history_classifier.hdf5\n",
      "32/32 [==============================] - 0s 2ms/step - loss: 0.6116 - accuracy: 0.7852 - val_loss: 0.4128 - val_accuracy: 0.9403\n",
      "Epoch 37/1000\n",
      " 1/32 [..............................] - ETA: 0s - loss: 0.5615 - accuracy: 0.8281\n",
      "Epoch 37: saving model to model/point_history_classifier/point_history_classifier.hdf5\n",
      "32/32 [==============================] - 0s 2ms/step - loss: 0.6368 - accuracy: 0.7774 - val_loss: 0.4109 - val_accuracy: 0.9426\n",
      "Epoch 38/1000\n",
      " 1/32 [..............................] - ETA: 0s - loss: 0.6767 - accuracy: 0.7109\n",
      "Epoch 38: saving model to model/point_history_classifier/point_history_classifier.hdf5\n",
      "32/32 [==============================] - 0s 2ms/step - loss: 0.6252 - accuracy: 0.7807 - val_loss: 0.4031 - val_accuracy: 0.9403\n",
      "Epoch 39/1000\n",
      " 1/32 [..............................] - ETA: 0s - loss: 0.5670 - accuracy: 0.8359\n",
      "Epoch 39: saving model to model/point_history_classifier/point_history_classifier.hdf5\n",
      "32/32 [==============================] - 0s 2ms/step - loss: 0.6197 - accuracy: 0.7779 - val_loss: 0.3980 - val_accuracy: 0.9350\n",
      "Epoch 40/1000\n",
      " 1/32 [..............................] - ETA: 0s - loss: 0.6669 - accuracy: 0.7734\n",
      "Epoch 40: saving model to model/point_history_classifier/point_history_classifier.hdf5\n",
      "32/32 [==============================] - 0s 2ms/step - loss: 0.6089 - accuracy: 0.7850 - val_loss: 0.3908 - val_accuracy: 0.9411\n",
      "Epoch 41/1000\n",
      " 1/32 [..............................] - ETA: 0s - loss: 0.7105 - accuracy: 0.7188\n",
      "Epoch 41: saving model to model/point_history_classifier/point_history_classifier.hdf5\n",
      "32/32 [==============================] - 0s 2ms/step - loss: 0.6125 - accuracy: 0.7742 - val_loss: 0.3852 - val_accuracy: 0.9426\n",
      "Epoch 42/1000\n",
      " 1/32 [..............................] - ETA: 0s - loss: 0.5669 - accuracy: 0.7891\n",
      "Epoch 42: saving model to model/point_history_classifier/point_history_classifier.hdf5\n",
      "32/32 [==============================] - 0s 2ms/step - loss: 0.6056 - accuracy: 0.7852 - val_loss: 0.3763 - val_accuracy: 0.9426\n",
      "Epoch 43/1000\n",
      " 1/32 [..............................] - ETA: 0s - loss: 0.5784 - accuracy: 0.8047\n",
      "Epoch 43: saving model to model/point_history_classifier/point_history_classifier.hdf5\n",
      "32/32 [==============================] - 0s 2ms/step - loss: 0.6085 - accuracy: 0.7742 - val_loss: 0.3717 - val_accuracy: 0.9426\n",
      "Epoch 44/1000\n",
      " 1/32 [..............................] - ETA: 0s - loss: 0.5870 - accuracy: 0.7500\n",
      "Epoch 44: saving model to model/point_history_classifier/point_history_classifier.hdf5\n",
      "32/32 [==============================] - 0s 2ms/step - loss: 0.5937 - accuracy: 0.7951 - val_loss: 0.3659 - val_accuracy: 0.9403\n",
      "Epoch 45/1000\n",
      " 1/32 [..............................] - ETA: 0s - loss: 0.4710 - accuracy: 0.8672\n",
      "Epoch 45: saving model to model/point_history_classifier/point_history_classifier.hdf5\n",
      "32/32 [==============================] - 0s 2ms/step - loss: 0.5871 - accuracy: 0.7915 - val_loss: 0.3607 - val_accuracy: 0.9403\n",
      "Epoch 46/1000\n",
      " 1/32 [..............................] - ETA: 0s - loss: 0.4422 - accuracy: 0.8516\n",
      "Epoch 46: saving model to model/point_history_classifier/point_history_classifier.hdf5\n",
      "32/32 [==============================] - 0s 2ms/step - loss: 0.5930 - accuracy: 0.7855 - val_loss: 0.3565 - val_accuracy: 0.9441\n",
      "Epoch 47/1000\n",
      " 1/32 [..............................] - ETA: 0s - loss: 0.5033 - accuracy: 0.8047\n",
      "Epoch 47: saving model to model/point_history_classifier/point_history_classifier.hdf5\n",
      "32/32 [==============================] - 0s 2ms/step - loss: 0.5822 - accuracy: 0.7933 - val_loss: 0.3542 - val_accuracy: 0.9411\n",
      "Epoch 48/1000\n",
      " 1/32 [..............................] - ETA: 0s - loss: 0.5487 - accuracy: 0.8047\n",
      "Epoch 48: saving model to model/point_history_classifier/point_history_classifier.hdf5\n",
      "32/32 [==============================] - 0s 2ms/step - loss: 0.5811 - accuracy: 0.7903 - val_loss: 0.3484 - val_accuracy: 0.9486\n",
      "Epoch 49/1000\n",
      " 1/32 [..............................] - ETA: 0s - loss: 0.5332 - accuracy: 0.8047\n",
      "Epoch 49: saving model to model/point_history_classifier/point_history_classifier.hdf5\n",
      "32/32 [==============================] - 0s 2ms/step - loss: 0.5800 - accuracy: 0.7878 - val_loss: 0.3440 - val_accuracy: 0.9456\n",
      "Epoch 50/1000\n",
      " 1/32 [..............................] - ETA: 0s - loss: 0.6228 - accuracy: 0.7422\n",
      "Epoch 50: saving model to model/point_history_classifier/point_history_classifier.hdf5\n",
      "32/32 [==============================] - 0s 2ms/step - loss: 0.5584 - accuracy: 0.8006 - val_loss: 0.3417 - val_accuracy: 0.9449\n",
      "Epoch 51/1000\n",
      " 1/32 [..............................] - ETA: 0s - loss: 0.5916 - accuracy: 0.7812\n",
      "Epoch 51: saving model to model/point_history_classifier/point_history_classifier.hdf5\n",
      "32/32 [==============================] - 0s 2ms/step - loss: 0.5799 - accuracy: 0.7898 - val_loss: 0.3420 - val_accuracy: 0.9434\n",
      "Epoch 52/1000\n",
      " 1/32 [..............................] - ETA: 0s - loss: 0.4786 - accuracy: 0.8438\n",
      "Epoch 52: saving model to model/point_history_classifier/point_history_classifier.hdf5\n",
      "32/32 [==============================] - 0s 2ms/step - loss: 0.5644 - accuracy: 0.7918 - val_loss: 0.3363 - val_accuracy: 0.9464\n",
      "Epoch 53/1000\n"
     ]
    },
    {
     "name": "stdout",
     "output_type": "stream",
     "text": [
      " 1/32 [..............................] - ETA: 0s - loss: 0.5035 - accuracy: 0.8594\n",
      "Epoch 53: saving model to model/point_history_classifier/point_history_classifier.hdf5\n",
      "32/32 [==============================] - 0s 2ms/step - loss: 0.5622 - accuracy: 0.7963 - val_loss: 0.3344 - val_accuracy: 0.9449\n",
      "Epoch 54/1000\n",
      " 1/32 [..............................] - ETA: 0s - loss: 0.6069 - accuracy: 0.7422\n",
      "Epoch 54: saving model to model/point_history_classifier/point_history_classifier.hdf5\n",
      "32/32 [==============================] - 0s 2ms/step - loss: 0.5545 - accuracy: 0.8009 - val_loss: 0.3301 - val_accuracy: 0.9471\n",
      "Epoch 55/1000\n",
      " 1/32 [..............................] - ETA: 0s - loss: 0.4597 - accuracy: 0.8359\n",
      "Epoch 55: saving model to model/point_history_classifier/point_history_classifier.hdf5\n",
      "32/32 [==============================] - 0s 2ms/step - loss: 0.5538 - accuracy: 0.7971 - val_loss: 0.3269 - val_accuracy: 0.9494\n",
      "Epoch 56/1000\n",
      " 1/32 [..............................] - ETA: 0s - loss: 0.6666 - accuracy: 0.7578\n",
      "Epoch 56: saving model to model/point_history_classifier/point_history_classifier.hdf5\n",
      "32/32 [==============================] - 0s 2ms/step - loss: 0.5654 - accuracy: 0.7925 - val_loss: 0.3252 - val_accuracy: 0.9486\n",
      "Epoch 57/1000\n",
      " 1/32 [..............................] - ETA: 0s - loss: 0.5001 - accuracy: 0.8281\n",
      "Epoch 57: saving model to model/point_history_classifier/point_history_classifier.hdf5\n",
      "32/32 [==============================] - 0s 2ms/step - loss: 0.5468 - accuracy: 0.8029 - val_loss: 0.3224 - val_accuracy: 0.9471\n",
      "Epoch 58/1000\n",
      " 1/32 [..............................] - ETA: 0s - loss: 0.5573 - accuracy: 0.7891\n",
      "Epoch 58: saving model to model/point_history_classifier/point_history_classifier.hdf5\n",
      "32/32 [==============================] - 0s 2ms/step - loss: 0.5560 - accuracy: 0.7966 - val_loss: 0.3185 - val_accuracy: 0.9486\n",
      "Epoch 59/1000\n",
      " 1/32 [..............................] - ETA: 0s - loss: 0.5901 - accuracy: 0.7734\n",
      "Epoch 59: saving model to model/point_history_classifier/point_history_classifier.hdf5\n",
      "32/32 [==============================] - 0s 2ms/step - loss: 0.5557 - accuracy: 0.8044 - val_loss: 0.3172 - val_accuracy: 0.9434\n",
      "Epoch 60/1000\n",
      " 1/32 [..............................] - ETA: 0s - loss: 0.3916 - accuracy: 0.8594\n",
      "Epoch 60: saving model to model/point_history_classifier/point_history_classifier.hdf5\n",
      "32/32 [==============================] - 0s 2ms/step - loss: 0.5365 - accuracy: 0.8064 - val_loss: 0.3134 - val_accuracy: 0.9464\n",
      "Epoch 61/1000\n",
      " 1/32 [..............................] - ETA: 0s - loss: 0.6404 - accuracy: 0.8047\n",
      "Epoch 61: saving model to model/point_history_classifier/point_history_classifier.hdf5\n",
      "32/32 [==============================] - 0s 2ms/step - loss: 0.5329 - accuracy: 0.8087 - val_loss: 0.3079 - val_accuracy: 0.9494\n",
      "Epoch 62/1000\n",
      " 1/32 [..............................] - ETA: 0s - loss: 0.6093 - accuracy: 0.7656\n",
      "Epoch 62: saving model to model/point_history_classifier/point_history_classifier.hdf5\n",
      "32/32 [==============================] - 0s 2ms/step - loss: 0.5267 - accuracy: 0.8069 - val_loss: 0.3059 - val_accuracy: 0.9486\n",
      "Epoch 63/1000\n",
      " 1/32 [..............................] - ETA: 0s - loss: 0.5953 - accuracy: 0.7891\n",
      "Epoch 63: saving model to model/point_history_classifier/point_history_classifier.hdf5\n",
      "32/32 [==============================] - 0s 2ms/step - loss: 0.5310 - accuracy: 0.8046 - val_loss: 0.3020 - val_accuracy: 0.9479\n",
      "Epoch 64/1000\n",
      " 1/32 [..............................] - ETA: 0s - loss: 0.4681 - accuracy: 0.8281\n",
      "Epoch 64: saving model to model/point_history_classifier/point_history_classifier.hdf5\n",
      "32/32 [==============================] - 0s 2ms/step - loss: 0.5374 - accuracy: 0.8112 - val_loss: 0.3017 - val_accuracy: 0.9486\n",
      "Epoch 65/1000\n",
      " 1/32 [..............................] - ETA: 0s - loss: 0.6190 - accuracy: 0.7578\n",
      "Epoch 65: saving model to model/point_history_classifier/point_history_classifier.hdf5\n",
      "32/32 [==============================] - 0s 2ms/step - loss: 0.5180 - accuracy: 0.8124 - val_loss: 0.3001 - val_accuracy: 0.9494\n",
      "Epoch 66/1000\n",
      " 1/32 [..............................] - ETA: 0s - loss: 0.4743 - accuracy: 0.8359\n",
      "Epoch 66: saving model to model/point_history_classifier/point_history_classifier.hdf5\n",
      "32/32 [==============================] - 0s 2ms/step - loss: 0.5391 - accuracy: 0.8039 - val_loss: 0.2993 - val_accuracy: 0.9486\n",
      "Epoch 67/1000\n",
      " 1/32 [..............................] - ETA: 0s - loss: 0.5091 - accuracy: 0.8281\n",
      "Epoch 67: saving model to model/point_history_classifier/point_history_classifier.hdf5\n",
      "32/32 [==============================] - 0s 2ms/step - loss: 0.5192 - accuracy: 0.8074 - val_loss: 0.3001 - val_accuracy: 0.9494\n",
      "Epoch 68/1000\n",
      " 1/32 [..............................] - ETA: 0s - loss: 0.4411 - accuracy: 0.8438\n",
      "Epoch 68: saving model to model/point_history_classifier/point_history_classifier.hdf5\n",
      "32/32 [==============================] - 0s 2ms/step - loss: 0.5211 - accuracy: 0.8026 - val_loss: 0.2970 - val_accuracy: 0.9486\n",
      "Epoch 69/1000\n",
      " 1/32 [..............................] - ETA: 0s - loss: 0.5098 - accuracy: 0.7891\n",
      "Epoch 69: saving model to model/point_history_classifier/point_history_classifier.hdf5\n",
      "32/32 [==============================] - 0s 2ms/step - loss: 0.5265 - accuracy: 0.8011 - val_loss: 0.2938 - val_accuracy: 0.9509\n",
      "Epoch 70/1000\n",
      " 1/32 [..............................] - ETA: 0s - loss: 0.4678 - accuracy: 0.8594\n",
      "Epoch 70: saving model to model/point_history_classifier/point_history_classifier.hdf5\n",
      "32/32 [==============================] - 0s 2ms/step - loss: 0.5097 - accuracy: 0.8109 - val_loss: 0.2899 - val_accuracy: 0.9486\n",
      "Epoch 71/1000\n",
      " 1/32 [..............................] - ETA: 0s - loss: 0.5779 - accuracy: 0.7578\n",
      "Epoch 71: saving model to model/point_history_classifier/point_history_classifier.hdf5\n",
      "32/32 [==============================] - 0s 2ms/step - loss: 0.5146 - accuracy: 0.8104 - val_loss: 0.2879 - val_accuracy: 0.9471\n",
      "Epoch 72/1000\n",
      " 1/32 [..............................] - ETA: 0s - loss: 0.4258 - accuracy: 0.8359\n",
      "Epoch 72: saving model to model/point_history_classifier/point_history_classifier.hdf5\n",
      "32/32 [==============================] - 0s 3ms/step - loss: 0.5123 - accuracy: 0.8099 - val_loss: 0.2896 - val_accuracy: 0.9494\n",
      "Epoch 73/1000\n",
      " 1/32 [..............................] - ETA: 0s - loss: 0.4832 - accuracy: 0.8672\n",
      "Epoch 73: saving model to model/point_history_classifier/point_history_classifier.hdf5\n",
      "32/32 [==============================] - 0s 3ms/step - loss: 0.5242 - accuracy: 0.8097 - val_loss: 0.2880 - val_accuracy: 0.9494\n",
      "Epoch 74/1000\n",
      " 1/32 [..............................] - ETA: 0s - loss: 0.5181 - accuracy: 0.8047\n",
      "Epoch 74: saving model to model/point_history_classifier/point_history_classifier.hdf5\n",
      "32/32 [==============================] - 0s 3ms/step - loss: 0.5192 - accuracy: 0.8177 - val_loss: 0.2896 - val_accuracy: 0.9509\n",
      "Epoch 75/1000\n",
      " 1/32 [..............................] - ETA: 0s - loss: 0.4742 - accuracy: 0.8203\n",
      "Epoch 75: saving model to model/point_history_classifier/point_history_classifier.hdf5\n",
      "32/32 [==============================] - 0s 3ms/step - loss: 0.5013 - accuracy: 0.8155 - val_loss: 0.2899 - val_accuracy: 0.9441\n",
      "Epoch 76/1000\n",
      " 1/32 [..............................] - ETA: 0s - loss: 0.5466 - accuracy: 0.8359\n",
      "Epoch 76: saving model to model/point_history_classifier/point_history_classifier.hdf5\n",
      "32/32 [==============================] - 0s 3ms/step - loss: 0.4990 - accuracy: 0.8190 - val_loss: 0.2866 - val_accuracy: 0.9494\n",
      "Epoch 77/1000\n",
      " 1/32 [..............................] - ETA: 0s - loss: 0.5073 - accuracy: 0.8203\n",
      "Epoch 77: saving model to model/point_history_classifier/point_history_classifier.hdf5\n",
      "32/32 [==============================] - 0s 2ms/step - loss: 0.5148 - accuracy: 0.8132 - val_loss: 0.2865 - val_accuracy: 0.9494\n",
      "Epoch 78/1000\n",
      " 1/32 [..............................] - ETA: 0s - loss: 0.4721 - accuracy: 0.8203\n",
      "Epoch 78: saving model to model/point_history_classifier/point_history_classifier.hdf5\n",
      "32/32 [==============================] - 0s 2ms/step - loss: 0.4907 - accuracy: 0.8245 - val_loss: 0.2851 - val_accuracy: 0.9471\n",
      "Epoch 79/1000\n"
     ]
    },
    {
     "name": "stdout",
     "output_type": "stream",
     "text": [
      " 1/32 [..............................] - ETA: 0s - loss: 0.4794 - accuracy: 0.8203\n",
      "Epoch 79: saving model to model/point_history_classifier/point_history_classifier.hdf5\n",
      "32/32 [==============================] - 0s 3ms/step - loss: 0.5123 - accuracy: 0.8182 - val_loss: 0.2859 - val_accuracy: 0.9434\n",
      "Epoch 80/1000\n",
      " 1/32 [..............................] - ETA: 0s - loss: 0.4562 - accuracy: 0.8281\n",
      "Epoch 80: saving model to model/point_history_classifier/point_history_classifier.hdf5\n",
      "32/32 [==============================] - 0s 3ms/step - loss: 0.4928 - accuracy: 0.8245 - val_loss: 0.2799 - val_accuracy: 0.9509\n",
      "Epoch 81/1000\n",
      " 1/32 [..............................] - ETA: 0s - loss: 0.5465 - accuracy: 0.8047\n",
      "Epoch 81: saving model to model/point_history_classifier/point_history_classifier.hdf5\n",
      "32/32 [==============================] - 0s 2ms/step - loss: 0.4870 - accuracy: 0.8291 - val_loss: 0.2794 - val_accuracy: 0.9502\n",
      "Epoch 82/1000\n",
      " 1/32 [..............................] - ETA: 0s - loss: 0.4387 - accuracy: 0.8594\n",
      "Epoch 82: saving model to model/point_history_classifier/point_history_classifier.hdf5\n",
      "32/32 [==============================] - 0s 2ms/step - loss: 0.4980 - accuracy: 0.8202 - val_loss: 0.2796 - val_accuracy: 0.9434\n",
      "Epoch 83/1000\n",
      " 1/32 [..............................] - ETA: 0s - loss: 0.4779 - accuracy: 0.8438\n",
      "Epoch 83: saving model to model/point_history_classifier/point_history_classifier.hdf5\n",
      "32/32 [==============================] - 0s 2ms/step - loss: 0.5008 - accuracy: 0.8207 - val_loss: 0.2751 - val_accuracy: 0.9502\n",
      "Epoch 84/1000\n",
      " 1/32 [..............................] - ETA: 0s - loss: 0.4221 - accuracy: 0.8594\n",
      "Epoch 84: saving model to model/point_history_classifier/point_history_classifier.hdf5\n",
      "32/32 [==============================] - 0s 2ms/step - loss: 0.4851 - accuracy: 0.8260 - val_loss: 0.2748 - val_accuracy: 0.9494\n",
      "Epoch 85/1000\n",
      "32/32 [==============================] - ETA: 0s - loss: 0.4921 - accuracy: 0.8160\n",
      "Epoch 85: saving model to model/point_history_classifier/point_history_classifier.hdf5\n",
      "32/32 [==============================] - 0s 3ms/step - loss: 0.4921 - accuracy: 0.8160 - val_loss: 0.2752 - val_accuracy: 0.9456\n",
      "Epoch 86/1000\n",
      " 1/32 [..............................] - ETA: 0s - loss: 0.4761 - accuracy: 0.8203\n",
      "Epoch 86: saving model to model/point_history_classifier/point_history_classifier.hdf5\n",
      "32/32 [==============================] - 0s 3ms/step - loss: 0.4940 - accuracy: 0.8099 - val_loss: 0.2765 - val_accuracy: 0.9434\n",
      "Epoch 87/1000\n",
      " 1/32 [..............................] - ETA: 0s - loss: 0.4915 - accuracy: 0.8203\n",
      "Epoch 87: saving model to model/point_history_classifier/point_history_classifier.hdf5\n",
      "32/32 [==============================] - 0s 3ms/step - loss: 0.4880 - accuracy: 0.8225 - val_loss: 0.2803 - val_accuracy: 0.9366\n",
      "Epoch 88/1000\n",
      " 1/32 [..............................] - ETA: 0s - loss: 0.4849 - accuracy: 0.7969\n",
      "Epoch 88: saving model to model/point_history_classifier/point_history_classifier.hdf5\n",
      "32/32 [==============================] - 0s 2ms/step - loss: 0.4802 - accuracy: 0.8238 - val_loss: 0.2733 - val_accuracy: 0.9464\n",
      "Epoch 89/1000\n",
      " 1/32 [..............................] - ETA: 0s - loss: 0.4734 - accuracy: 0.8203\n",
      "Epoch 89: saving model to model/point_history_classifier/point_history_classifier.hdf5\n",
      "32/32 [==============================] - 0s 2ms/step - loss: 0.4841 - accuracy: 0.8218 - val_loss: 0.2710 - val_accuracy: 0.9479\n",
      "Epoch 90/1000\n",
      " 1/32 [..............................] - ETA: 0s - loss: 0.5155 - accuracy: 0.7656\n",
      "Epoch 90: saving model to model/point_history_classifier/point_history_classifier.hdf5\n",
      "32/32 [==============================] - 0s 3ms/step - loss: 0.4841 - accuracy: 0.8225 - val_loss: 0.2713 - val_accuracy: 0.9486\n",
      "Epoch 91/1000\n",
      " 1/32 [..............................] - ETA: 0s - loss: 0.5655 - accuracy: 0.7656\n",
      "Epoch 91: saving model to model/point_history_classifier/point_history_classifier.hdf5\n",
      "32/32 [==============================] - 0s 3ms/step - loss: 0.4851 - accuracy: 0.8293 - val_loss: 0.2695 - val_accuracy: 0.9479\n",
      "Epoch 92/1000\n",
      " 1/32 [..............................] - ETA: 0s - loss: 0.4522 - accuracy: 0.8438\n",
      "Epoch 92: saving model to model/point_history_classifier/point_history_classifier.hdf5\n",
      "32/32 [==============================] - 0s 2ms/step - loss: 0.5000 - accuracy: 0.8218 - val_loss: 0.2694 - val_accuracy: 0.9502\n",
      "Epoch 93/1000\n",
      " 1/32 [..............................] - ETA: 0s - loss: 0.6408 - accuracy: 0.7812\n",
      "Epoch 93: saving model to model/point_history_classifier/point_history_classifier.hdf5\n",
      "32/32 [==============================] - 0s 2ms/step - loss: 0.5039 - accuracy: 0.8185 - val_loss: 0.2688 - val_accuracy: 0.9494\n",
      "Epoch 94/1000\n",
      " 1/32 [..............................] - ETA: 0s - loss: 0.4991 - accuracy: 0.8359\n",
      "Epoch 94: saving model to model/point_history_classifier/point_history_classifier.hdf5\n",
      "32/32 [==============================] - 0s 2ms/step - loss: 0.4874 - accuracy: 0.8220 - val_loss: 0.2674 - val_accuracy: 0.9539\n",
      "Epoch 95/1000\n",
      " 1/32 [..............................] - ETA: 0s - loss: 0.4754 - accuracy: 0.8203\n",
      "Epoch 95: saving model to model/point_history_classifier/point_history_classifier.hdf5\n",
      "32/32 [==============================] - 0s 3ms/step - loss: 0.4759 - accuracy: 0.8218 - val_loss: 0.2675 - val_accuracy: 0.9569\n",
      "Epoch 96/1000\n",
      " 1/32 [..............................] - ETA: 0s - loss: 0.4901 - accuracy: 0.8438\n",
      "Epoch 96: saving model to model/point_history_classifier/point_history_classifier.hdf5\n",
      "32/32 [==============================] - 0s 3ms/step - loss: 0.4641 - accuracy: 0.8331 - val_loss: 0.2654 - val_accuracy: 0.9464\n",
      "Epoch 97/1000\n",
      " 1/32 [..............................] - ETA: 0s - loss: 0.3156 - accuracy: 0.9062\n",
      "Epoch 97: saving model to model/point_history_classifier/point_history_classifier.hdf5\n",
      "32/32 [==============================] - 0s 3ms/step - loss: 0.4900 - accuracy: 0.8230 - val_loss: 0.2649 - val_accuracy: 0.9509\n",
      "Epoch 98/1000\n",
      " 1/32 [..............................] - ETA: 0s - loss: 0.4916 - accuracy: 0.8203\n",
      "Epoch 98: saving model to model/point_history_classifier/point_history_classifier.hdf5\n",
      "32/32 [==============================] - 0s 2ms/step - loss: 0.4899 - accuracy: 0.8223 - val_loss: 0.2666 - val_accuracy: 0.9471\n",
      "Epoch 99/1000\n",
      " 1/32 [..............................] - ETA: 0s - loss: 0.6029 - accuracy: 0.7891\n",
      "Epoch 99: saving model to model/point_history_classifier/point_history_classifier.hdf5\n",
      "32/32 [==============================] - 0s 2ms/step - loss: 0.4847 - accuracy: 0.8313 - val_loss: 0.2653 - val_accuracy: 0.9494\n",
      "Epoch 100/1000\n",
      " 1/32 [..............................] - ETA: 0s - loss: 0.4611 - accuracy: 0.8281\n",
      "Epoch 100: saving model to model/point_history_classifier/point_history_classifier.hdf5\n",
      "32/32 [==============================] - 0s 3ms/step - loss: 0.4724 - accuracy: 0.8293 - val_loss: 0.2666 - val_accuracy: 0.9471\n",
      "Epoch 101/1000\n",
      " 1/32 [..............................] - ETA: 0s - loss: 0.4250 - accuracy: 0.8516\n",
      "Epoch 101: saving model to model/point_history_classifier/point_history_classifier.hdf5\n",
      "32/32 [==============================] - 0s 2ms/step - loss: 0.4647 - accuracy: 0.8348 - val_loss: 0.2648 - val_accuracy: 0.9411\n",
      "Epoch 102/1000\n",
      " 1/32 [..............................] - ETA: 0s - loss: 0.4520 - accuracy: 0.7891\n",
      "Epoch 102: saving model to model/point_history_classifier/point_history_classifier.hdf5\n",
      "32/32 [==============================] - 0s 2ms/step - loss: 0.4703 - accuracy: 0.8288 - val_loss: 0.2622 - val_accuracy: 0.9509\n",
      "Epoch 103/1000\n",
      " 1/32 [..............................] - ETA: 0s - loss: 0.5024 - accuracy: 0.8281\n",
      "Epoch 103: saving model to model/point_history_classifier/point_history_classifier.hdf5\n",
      "32/32 [==============================] - 0s 2ms/step - loss: 0.4853 - accuracy: 0.8283 - val_loss: 0.2636 - val_accuracy: 0.9464\n",
      "Epoch 104/1000\n",
      " 1/32 [..............................] - ETA: 0s - loss: 0.4558 - accuracy: 0.8203\n",
      "Epoch 104: saving model to model/point_history_classifier/point_history_classifier.hdf5\n",
      "32/32 [==============================] - 0s 3ms/step - loss: 0.4878 - accuracy: 0.8245 - val_loss: 0.2618 - val_accuracy: 0.9479\n",
      "Epoch 105/1000\n"
     ]
    },
    {
     "name": "stdout",
     "output_type": "stream",
     "text": [
      " 1/32 [..............................] - ETA: 0s - loss: 0.4283 - accuracy: 0.8594\n",
      "Epoch 105: saving model to model/point_history_classifier/point_history_classifier.hdf5\n",
      "32/32 [==============================] - 0s 3ms/step - loss: 0.4691 - accuracy: 0.8313 - val_loss: 0.2619 - val_accuracy: 0.9547\n",
      "Epoch 106/1000\n",
      " 1/32 [..............................] - ETA: 0s - loss: 0.4308 - accuracy: 0.8359\n",
      "Epoch 106: saving model to model/point_history_classifier/point_history_classifier.hdf5\n",
      "32/32 [==============================] - 0s 2ms/step - loss: 0.4671 - accuracy: 0.8321 - val_loss: 0.2617 - val_accuracy: 0.9517\n",
      "Epoch 107/1000\n",
      " 1/32 [..............................] - ETA: 0s - loss: 0.5901 - accuracy: 0.7812\n",
      "Epoch 107: saving model to model/point_history_classifier/point_history_classifier.hdf5\n",
      "32/32 [==============================] - 0s 2ms/step - loss: 0.4808 - accuracy: 0.8291 - val_loss: 0.2598 - val_accuracy: 0.9509\n",
      "Epoch 108/1000\n",
      " 1/32 [..............................] - ETA: 0s - loss: 0.4455 - accuracy: 0.8203\n",
      "Epoch 108: saving model to model/point_history_classifier/point_history_classifier.hdf5\n",
      "32/32 [==============================] - 0s 3ms/step - loss: 0.4676 - accuracy: 0.8238 - val_loss: 0.2597 - val_accuracy: 0.9486\n",
      "Epoch 109/1000\n",
      " 1/32 [..............................] - ETA: 0s - loss: 0.4482 - accuracy: 0.8516\n",
      "Epoch 109: saving model to model/point_history_classifier/point_history_classifier.hdf5\n",
      "32/32 [==============================] - 0s 3ms/step - loss: 0.4787 - accuracy: 0.8308 - val_loss: 0.2604 - val_accuracy: 0.9486\n",
      "Epoch 110/1000\n",
      " 1/32 [..............................] - ETA: 0s - loss: 0.4384 - accuracy: 0.8359\n",
      "Epoch 110: saving model to model/point_history_classifier/point_history_classifier.hdf5\n",
      "32/32 [==============================] - 0s 2ms/step - loss: 0.4626 - accuracy: 0.8306 - val_loss: 0.2633 - val_accuracy: 0.9434\n",
      "Epoch 111/1000\n",
      " 1/32 [..............................] - ETA: 0s - loss: 0.3594 - accuracy: 0.8984\n",
      "Epoch 111: saving model to model/point_history_classifier/point_history_classifier.hdf5\n",
      "32/32 [==============================] - 0s 2ms/step - loss: 0.4404 - accuracy: 0.8376 - val_loss: 0.2561 - val_accuracy: 0.9486\n",
      "Epoch 112/1000\n",
      " 1/32 [..............................] - ETA: 0s - loss: 0.4709 - accuracy: 0.8281\n",
      "Epoch 112: saving model to model/point_history_classifier/point_history_classifier.hdf5\n",
      "32/32 [==============================] - 0s 2ms/step - loss: 0.4715 - accuracy: 0.8308 - val_loss: 0.2599 - val_accuracy: 0.9456\n",
      "Epoch 113/1000\n",
      " 1/32 [..............................] - ETA: 0s - loss: 0.4714 - accuracy: 0.8359\n",
      "Epoch 113: saving model to model/point_history_classifier/point_history_classifier.hdf5\n",
      "32/32 [==============================] - 0s 3ms/step - loss: 0.4778 - accuracy: 0.8265 - val_loss: 0.2598 - val_accuracy: 0.9449\n",
      "Epoch 114/1000\n",
      " 1/32 [..............................] - ETA: 0s - loss: 0.4506 - accuracy: 0.8672\n",
      "Epoch 114: saving model to model/point_history_classifier/point_history_classifier.hdf5\n",
      "32/32 [==============================] - 0s 3ms/step - loss: 0.4664 - accuracy: 0.8255 - val_loss: 0.2580 - val_accuracy: 0.9471\n",
      "Epoch 115/1000\n",
      " 1/32 [..............................] - ETA: 0s - loss: 0.5240 - accuracy: 0.8672\n",
      "Epoch 115: saving model to model/point_history_classifier/point_history_classifier.hdf5\n",
      "32/32 [==============================] - 0s 3ms/step - loss: 0.4693 - accuracy: 0.8321 - val_loss: 0.2592 - val_accuracy: 0.9479\n",
      "Epoch 116/1000\n",
      " 1/32 [..............................] - ETA: 0s - loss: 0.4484 - accuracy: 0.8672\n",
      "Epoch 116: saving model to model/point_history_classifier/point_history_classifier.hdf5\n",
      "32/32 [==============================] - 0s 3ms/step - loss: 0.4725 - accuracy: 0.8243 - val_loss: 0.2597 - val_accuracy: 0.9456\n",
      "Epoch 117/1000\n",
      " 1/32 [..............................] - ETA: 0s - loss: 0.4754 - accuracy: 0.8750\n",
      "Epoch 117: saving model to model/point_history_classifier/point_history_classifier.hdf5\n",
      "32/32 [==============================] - 0s 3ms/step - loss: 0.4801 - accuracy: 0.8331 - val_loss: 0.2575 - val_accuracy: 0.9539\n",
      "Epoch 118/1000\n",
      " 1/32 [..............................] - ETA: 0s - loss: 0.3537 - accuracy: 0.8828\n",
      "Epoch 118: saving model to model/point_history_classifier/point_history_classifier.hdf5\n",
      "32/32 [==============================] - 0s 3ms/step - loss: 0.4562 - accuracy: 0.8343 - val_loss: 0.2593 - val_accuracy: 0.9479\n",
      "Epoch 119/1000\n",
      " 1/32 [..............................] - ETA: 0s - loss: 0.4305 - accuracy: 0.8203\n",
      "Epoch 119: saving model to model/point_history_classifier/point_history_classifier.hdf5\n",
      "32/32 [==============================] - 0s 2ms/step - loss: 0.4686 - accuracy: 0.8278 - val_loss: 0.2595 - val_accuracy: 0.9486\n",
      "Epoch 120/1000\n",
      " 1/32 [..............................] - ETA: 0s - loss: 0.6734 - accuracy: 0.7500\n",
      "Epoch 120: saving model to model/point_history_classifier/point_history_classifier.hdf5\n",
      "32/32 [==============================] - 0s 2ms/step - loss: 0.4631 - accuracy: 0.8313 - val_loss: 0.2592 - val_accuracy: 0.9509\n",
      "Epoch 121/1000\n",
      " 1/32 [..............................] - ETA: 0s - loss: 0.5667 - accuracy: 0.8125\n",
      "Epoch 121: saving model to model/point_history_classifier/point_history_classifier.hdf5\n",
      "32/32 [==============================] - 0s 3ms/step - loss: 0.4379 - accuracy: 0.8419 - val_loss: 0.2582 - val_accuracy: 0.9479\n",
      "Epoch 122/1000\n",
      "31/32 [============================>.] - ETA: 0s - loss: 0.4647 - accuracy: 0.8304\n",
      "Epoch 122: saving model to model/point_history_classifier/point_history_classifier.hdf5\n",
      "32/32 [==============================] - 0s 3ms/step - loss: 0.4647 - accuracy: 0.8306 - val_loss: 0.2617 - val_accuracy: 0.9411\n",
      "Epoch 123/1000\n",
      " 1/32 [..............................] - ETA: 0s - loss: 0.4275 - accuracy: 0.8359\n",
      "Epoch 123: saving model to model/point_history_classifier/point_history_classifier.hdf5\n",
      "32/32 [==============================] - 0s 2ms/step - loss: 0.4670 - accuracy: 0.8235 - val_loss: 0.2602 - val_accuracy: 0.9403\n",
      "Epoch 124/1000\n",
      " 1/32 [..............................] - ETA: 0s - loss: 0.4944 - accuracy: 0.8047\n",
      "Epoch 124: saving model to model/point_history_classifier/point_history_classifier.hdf5\n",
      "32/32 [==============================] - 0s 2ms/step - loss: 0.4551 - accuracy: 0.8429 - val_loss: 0.2572 - val_accuracy: 0.9479\n",
      "Epoch 125/1000\n",
      "32/32 [==============================] - ETA: 0s - loss: 0.4725 - accuracy: 0.8291\n",
      "Epoch 125: saving model to model/point_history_classifier/point_history_classifier.hdf5\n",
      "32/32 [==============================] - 0s 4ms/step - loss: 0.4725 - accuracy: 0.8291 - val_loss: 0.2576 - val_accuracy: 0.9471\n",
      "Epoch 126/1000\n",
      " 1/32 [..............................] - ETA: 0s - loss: 0.5433 - accuracy: 0.8047\n",
      "Epoch 126: saving model to model/point_history_classifier/point_history_classifier.hdf5\n",
      "32/32 [==============================] - 0s 3ms/step - loss: 0.4719 - accuracy: 0.8280 - val_loss: 0.2592 - val_accuracy: 0.9509\n",
      "Epoch 127/1000\n",
      " 1/32 [..............................] - ETA: 0s - loss: 0.3980 - accuracy: 0.8594\n",
      "Epoch 127: saving model to model/point_history_classifier/point_history_classifier.hdf5\n",
      "32/32 [==============================] - 0s 2ms/step - loss: 0.4551 - accuracy: 0.8356 - val_loss: 0.2588 - val_accuracy: 0.9479\n",
      "Epoch 128/1000\n",
      " 1/32 [..............................] - ETA: 0s - loss: 0.4588 - accuracy: 0.8594\n",
      "Epoch 128: saving model to model/point_history_classifier/point_history_classifier.hdf5\n",
      "32/32 [==============================] - 0s 2ms/step - loss: 0.4702 - accuracy: 0.8326 - val_loss: 0.2582 - val_accuracy: 0.9456\n",
      "Epoch 129/1000\n",
      " 1/32 [..............................] - ETA: 0s - loss: 0.3539 - accuracy: 0.8906\n",
      "Epoch 129: saving model to model/point_history_classifier/point_history_classifier.hdf5\n",
      "32/32 [==============================] - 0s 3ms/step - loss: 0.4564 - accuracy: 0.8280 - val_loss: 0.2561 - val_accuracy: 0.9509\n",
      "Epoch 130/1000\n",
      " 1/32 [..............................] - ETA: 0s - loss: 0.4136 - accuracy: 0.8359\n",
      "Epoch 130: saving model to model/point_history_classifier/point_history_classifier.hdf5\n",
      "32/32 [==============================] - 0s 3ms/step - loss: 0.4541 - accuracy: 0.8361 - val_loss: 0.2576 - val_accuracy: 0.9494\n",
      "Epoch 131/1000\n"
     ]
    },
    {
     "name": "stdout",
     "output_type": "stream",
     "text": [
      " 1/32 [..............................] - ETA: 0s - loss: 0.4412 - accuracy: 0.8047\n",
      "Epoch 131: saving model to model/point_history_classifier/point_history_classifier.hdf5\n",
      "32/32 [==============================] - 0s 2ms/step - loss: 0.4599 - accuracy: 0.8346 - val_loss: 0.2562 - val_accuracy: 0.9464\n",
      "Epoch 131: early stopping\n"
     ]
    },
    {
     "data": {
      "text/plain": [
       "<keras.callbacks.History at 0x7f3be0465790>"
      ]
     },
     "execution_count": 14,
     "metadata": {},
     "output_type": "execute_result"
    }
   ],
   "source": [
    "model.fit(\n",
    "    X_train,\n",
    "    y_train,\n",
    "    epochs=1000,\n",
    "    batch_size=128,\n",
    "    validation_data=(X_test, y_test),\n",
    "    callbacks=[cp_callback, es_callback]\n",
    ")"
   ]
  },
  {
   "cell_type": "code",
   "execution_count": 13,
   "metadata": {},
   "outputs": [],
   "source": [
    "# 保存したモデルのロード\n",
    "model = tf.keras.models.load_model(model_save_path)"
   ]
  },
  {
   "cell_type": "code",
   "execution_count": 14,
   "metadata": {},
   "outputs": [
    {
     "name": "stdout",
     "output_type": "stream",
     "text": [
      "[0.9438375  0.01624594 0.01188833 0.02802826]\n",
      "0\n"
     ]
    }
   ],
   "source": [
    "# 推論テスト\n",
    "predict_result = model.predict(np.array([X_test[0]]))\n",
    "print(np.squeeze(predict_result))\n",
    "print(np.argmax(np.squeeze(predict_result)))"
   ]
  },
  {
   "cell_type": "markdown",
   "metadata": {},
   "source": [
    "# 混同行列"
   ]
  },
  {
   "cell_type": "code",
   "execution_count": 15,
   "metadata": {},
   "outputs": [
    {
     "data": {
      "image/png": "[encoded data removed]",
      "text/plain": [
       "<Figure size 504x432 with 2 Axes>"
      ]
     },
     "metadata": {
      "needs_background": "light"
     },
     "output_type": "display_data"
    },
    {
     "name": "stdout",
     "output_type": "stream",
     "text": [
      "Classification Report\n",
      "              precision    recall  f1-score   support\n",
      "\n",
      "           0       0.99      1.00      0.99       395\n",
      "           1       0.93      0.99      0.96       295\n",
      "           2       0.98      0.97      0.98       307\n",
      "           3       0.96      0.91      0.93       327\n",
      "\n",
      "    accuracy                           0.97      1324\n",
      "   macro avg       0.97      0.97      0.97      1324\n",
      "weighted avg       0.97      0.97      0.97      1324\n",
      "\n"
     ]
    }
   ],
   "source": [
    "import pandas as pd\n",
    "import seaborn as sns\n",
    "import matplotlib.pyplot as plt\n",
    "from sklearn.metrics import confusion_matrix, classification_report\n",
    "\n",
    "def print_confusion_matrix(y_true, y_pred, report=True):\n",
    "    labels = sorted(list(set(y_true)))\n",
    "    cmx_data = confusion_matrix(y_true, y_pred, labels=labels)\n",
    "    \n",
    "    df_cmx = pd.DataFrame(cmx_data, index=labels, columns=labels)\n",
    " \n",
    "    fig, ax = plt.subplots(figsize=(7, 6))\n",
    "    sns.heatmap(df_cmx, annot=True, fmt='g' ,square=False)\n",
    "    ax.set_ylim(len(set(y_true)), 0)\n",
    "    plt.show()\n",
    "    \n",
    "    if report:\n",
    "        print('Classification Report')\n",
    "        print(classification_report(y_test, y_pred))\n",
    "\n",
    "Y_pred = model.predict(X_test)\n",
    "y_pred = np.argmax(Y_pred, axis=1)\n",
    "\n",
    "print_confusion_matrix(y_test, y_pred)"
   ]
  },
  {
   "cell_type": "markdown",
   "metadata": {},
   "source": [
    "# Tensorflow-Lite用のモデルへ変換"
   ]
  },
  {
   "cell_type": "code",
   "execution_count": null,
   "metadata": {},
   "outputs": [],
   "source": [
    "# 推論専用のモデルとして保存\n",
    "model.save(model_save_path, include_optimizer=False)\n",
    "model = tf.keras.models.load_model(model_save_path)"
   ]
  },
  {
   "cell_type": "code",
   "execution_count": 16,
   "metadata": {},
   "outputs": [],
   "source": [
    "tflite_save_path = 'model/point_history_classifier/point_history_classifier.tflite'"
   ]
  },
  {
   "cell_type": "code",
   "execution_count": null,
   "metadata": {},
   "outputs": [],
   "source": [
    "# モデルを変換(量子化\n",
    "converter = tf.lite.TFLiteConverter.from_keras_model(model)  # converter = tf.lite.TFLiteConverter.from_saved_model(saved_model_path)\n",
    "converter.optimizations = [tf.lite.Optimize.DEFAULT]\n",
    "tflite_quantized_model = converter.convert()\n",
    "\n",
    "open(tflite_save_path, 'wb').write(tflite_quantized_model)"
   ]
  },
  {
   "cell_type": "markdown",
   "metadata": {},
   "source": [
    "# 推論テスト"
   ]
  },
  {
   "cell_type": "code",
   "execution_count": 17,
   "metadata": {},
   "outputs": [],
   "source": [
    "interpreter = tf.lite.Interpreter(model_path=tflite_save_path)\n",
    "interpreter.allocate_tensors()"
   ]
  },
  {
   "cell_type": "code",
   "execution_count": 18,
   "metadata": {},
   "outputs": [
    {
     "name": "stdout",
     "output_type": "stream",
     "text": [
      "[{'name': 'input_1', 'index': 0, 'shape': array([ 1, 32]), 'shape_signature': array([-1, 32]), 'dtype': <class 'numpy.float32'>, 'quantization': (0.0, 0), 'quantization_parameters': {'scales': array([], dtype=float32), 'zero_points': array([], dtype=int32), 'quantized_dimension': 0}, 'sparsity_parameters': {}}]\n"
     ]
    }
   ],
   "source": [
    "# 入出力テンソルを取得\n",
    "input_details = interpreter.get_input_details()\n",
    "output_details = interpreter.get_output_details()\n",
    "print(input_details)"
   ]
  },
  {
   "cell_type": "code",
   "execution_count": 19,
   "metadata": {},
   "outputs": [],
   "source": [
    "interpreter.set_tensor(input_details[0]['index'], np.array([X_test[0]]))"
   ]
  },
  {
   "cell_type": "code",
   "execution_count": 20,
   "metadata": {},
   "outputs": [
    {
     "name": "stdout",
     "output_type": "stream",
     "text": [
      "Wall time: 0 ns\n"
     ]
    }
   ],
   "source": [
    "%%time\n",
    "# 推論実施\n",
    "interpreter.invoke()\n",
    "tflite_results = interpreter.get_tensor(output_details[0]['index'])"
   ]
  },
  {
   "cell_type": "code",
   "execution_count": 21,
   "metadata": {},
   "outputs": [
    {
     "name": "stdout",
     "output_type": "stream",
     "text": [
      "[0.9579909  0.01342559 0.00907356 0.01950999]\n",
      "0\n"
     ]
    }
   ],
   "source": [
    "print(np.squeeze(tflite_results))\n",
    "print(np.argmax(np.squeeze(tflite_results)))"
   ]
  }
 ],
 "metadata": {
  "kernelspec": {
   "display_name": "Python 3 (ipykernel)",
   "language": "python",
   "name": "python3"
  },
  "language_info": {
   "codemirror_mode": {
    "name": "ipython",
    "version": 3
   },
   "file_extension": ".py",
   "mimetype": "text/x-python",
   "name": "python",
   "nbconvert_exporter": "python",
   "pygments_lexer": "ipython3",
   "version": "3.9.13"
  }
 },
 "nbformat": 4,
 "nbformat_minor": 4
}
