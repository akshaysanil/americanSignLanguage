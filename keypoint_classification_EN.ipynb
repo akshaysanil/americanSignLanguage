{
 "cells": [
  {
   "cell_type": "code",
   "execution_count": 1,
   "metadata": {
    "id": "igMyGnjE9hEp"
   },
   "outputs": [
    {
     "name": "stderr",
     "output_type": "stream",
     "text": [
      "2022-12-10 20:56:06.449443: I tensorflow/core/platform/cpu_feature_guard.cc:193] This TensorFlow binary is optimized with oneAPI Deep Neural Network Library (oneDNN) to use the following CPU instructions in performance-critical operations:  AVX2 AVX512F AVX512_VNNI FMA\n",
      "To enable them in other operations, rebuild TensorFlow with the appropriate compiler flags.\n",
      "2022-12-10 20:56:06.537753: I tensorflow/core/util/port.cc:104] oneDNN custom operations are on. You may see slightly different numerical results due to floating-point round-off errors from different computation orders. To turn them off, set the environment variable `TF_ENABLE_ONEDNN_OPTS=0`.\n",
      "2022-12-10 20:56:06.540158: W tensorflow/compiler/xla/stream_executor/platform/default/dso_loader.cc:64] Could not load dynamic library 'libcudart.so.11.0'; dlerror: libcudart.so.11.0: cannot open shared object file: No such file or directory\n",
      "2022-12-10 20:56:06.540169: I tensorflow/compiler/xla/stream_executor/cuda/cudart_stub.cc:29] Ignore above cudart dlerror if you do not have a GPU set up on your machine.\n",
      "2022-12-10 20:56:06.905176: W tensorflow/compiler/xla/stream_executor/platform/default/dso_loader.cc:64] Could not load dynamic library 'libnvinfer.so.7'; dlerror: libnvinfer.so.7: cannot open shared object file: No such file or directory\n",
      "2022-12-10 20:56:06.905211: W tensorflow/compiler/xla/stream_executor/platform/default/dso_loader.cc:64] Could not load dynamic library 'libnvinfer_plugin.so.7'; dlerror: libnvinfer_plugin.so.7: cannot open shared object file: No such file or directory\n",
      "2022-12-10 20:56:06.905214: W tensorflow/compiler/tf2tensorrt/utils/py_utils.cc:38] TF-TRT Warning: Cannot dlopen some TensorRT libraries. If you would like to use Nvidia GPU with TensorRT, please make sure the missing libraries mentioned above are installed properly.\n"
     ]
    }
   ],
   "source": [
    "import csv\n",
    "\n",
    "import numpy as np\n",
    "import tensorflow as tf\n",
    "from sklearn.model_selection import train_test_split\n",
    "\n",
    "RANDOM_SEED = 42"
   ]
  },
  {
   "cell_type": "markdown",
   "metadata": {
    "id": "t2HDvhIu9hEr"
   },
   "source": [
    "# Specify each path"
   ]
  },
  {
   "cell_type": "code",
   "execution_count": 2,
   "metadata": {
    "id": "9NvZP2Zn9hEy"
   },
   "outputs": [],
   "source": [
    "dataset = 'model/keypoint_classifier/keypoint.csv'\n",
    "model_save_path = 'model/keypoint_classifier/keypoint_classifier.hdf5'\n",
    "tflite_save_path = 'model/keypoint_classifier/keypoint_classifier.tflite'"
   ]
  },
  {
   "cell_type": "markdown",
   "metadata": {
    "id": "s5oMH7x19hEz"
   },
   "source": [
    "# Set number of classes"
   ]
  },
  {
   "cell_type": "code",
   "execution_count": 3,
   "metadata": {
    "id": "du4kodXL9hEz"
   },
   "outputs": [],
   "source": [
    "NUM_CLASSES = 5"
   ]
  },
  {
   "cell_type": "markdown",
   "metadata": {
    "id": "XjnL0uso9hEz"
   },
   "source": [
    "# Dataset reading"
   ]
  },
  {
   "cell_type": "code",
   "execution_count": 4,
   "metadata": {
    "id": "QT5ZqtEz9hE0"
   },
   "outputs": [],
   "source": [
    "X_dataset = np.loadtxt(dataset, delimiter=',', dtype='float32', usecols=list(range(1, (21 * 2) + 1)))"
   ]
  },
  {
   "cell_type": "code",
   "execution_count": 5,
   "metadata": {
    "id": "QmoKFsp49hE0"
   },
   "outputs": [],
   "source": [
    "y_dataset = np.loadtxt(dataset, delimiter=',', dtype='int32', usecols=(0))"
   ]
  },
  {
   "cell_type": "code",
   "execution_count": 6,
   "metadata": {
    "id": "xQU7JTZ_9hE0"
   },
   "outputs": [],
   "source": [
    "X_train, X_test, y_train, y_test = train_test_split(X_dataset, y_dataset, train_size=0.75, random_state=RANDOM_SEED)"
   ]
  },
  {
   "cell_type": "markdown",
   "metadata": {
    "id": "mxK_lETT9hE0"
   },
   "source": [
    "# Model building"
   ]
  },
  {
   "cell_type": "code",
   "execution_count": 7,
   "metadata": {
    "id": "vHBmUf1t9hE1"
   },
   "outputs": [
    {
     "name": "stderr",
     "output_type": "stream",
     "text": [
      "2022-12-10 20:56:11.423042: W tensorflow/compiler/xla/stream_executor/platform/default/dso_loader.cc:64] Could not load dynamic library 'libcuda.so.1'; dlerror: libcuda.so.1: cannot open shared object file: No such file or directory\n",
      "2022-12-10 20:56:11.423067: W tensorflow/compiler/xla/stream_executor/cuda/cuda_driver.cc:265] failed call to cuInit: UNKNOWN ERROR (303)\n",
      "2022-12-10 20:56:11.423080: I tensorflow/compiler/xla/stream_executor/cuda/cuda_diagnostics.cc:156] kernel driver does not appear to be running on this host (akshay-Mi-NoteBook-Ultra): /proc/driver/nvidia/version does not exist\n",
      "2022-12-10 20:56:11.423316: I tensorflow/core/platform/cpu_feature_guard.cc:193] This TensorFlow binary is optimized with oneAPI Deep Neural Network Library (oneDNN) to use the following CPU instructions in performance-critical operations:  AVX2 AVX512F AVX512_VNNI FMA\n",
      "To enable them in other operations, rebuild TensorFlow with the appropriate compiler flags.\n"
     ]
    }
   ],
   "source": [
    "model = tf.keras.models.Sequential([\n",
    "    tf.keras.layers.Input((21 * 2, )),\n",
    "    tf.keras.layers.Dropout(0.2),\n",
    "    tf.keras.layers.Dense(20, activation='relu'),\n",
    "    tf.keras.layers.Dropout(0.4),\n",
    "    tf.keras.layers.Dense(10, activation='relu'),\n",
    "    tf.keras.layers.Dense(NUM_CLASSES, activation='softmax')\n",
    "])"
   ]
  },
  {
   "cell_type": "code",
   "execution_count": 8,
   "metadata": {
    "colab": {
     "base_uri": "https://localhost:8080/"
    },
    "id": "ypqky9tc9hE1",
    "outputId": "5db082bb-30e3-4110-bf63-a1ee777ecd46"
   },
   "outputs": [
    {
     "name": "stdout",
     "output_type": "stream",
     "text": [
      "Model: \"sequential\"\n",
      "_________________________________________________________________\n",
      " Layer (type)                Output Shape              Param #   \n",
      "=================================================================\n",
      " dropout (Dropout)           (None, 42)                0         \n",
      "                                                                 \n",
      " dense (Dense)               (None, 20)                860       \n",
      "                                                                 \n",
      " dropout_1 (Dropout)         (None, 20)                0         \n",
      "                                                                 \n",
      " dense_1 (Dense)             (None, 10)                210       \n",
      "                                                                 \n",
      " dense_2 (Dense)             (None, 5)                 55        \n",
      "                                                                 \n",
      "=================================================================\n",
      "Total params: 1,125\n",
      "Trainable params: 1,125\n",
      "Non-trainable params: 0\n",
      "_________________________________________________________________\n"
     ]
    }
   ],
   "source": [
    "model.summary()  # tf.keras.utils.plot_model(model, show_shapes=True)"
   ]
  },
  {
   "cell_type": "code",
   "execution_count": 9,
   "metadata": {
    "id": "MbMjOflQ9hE1"
   },
   "outputs": [],
   "source": [
    "# Model checkpoint callback\n",
    "cp_callback = tf.keras.callbacks.ModelCheckpoint(\n",
    "    model_save_path, verbose=1, save_weights_only=False)\n",
    "# Callback for early stopping\n",
    "es_callback = tf.keras.callbacks.EarlyStopping(patience=20, verbose=1)"
   ]
  },
  {
   "cell_type": "code",
   "execution_count": 10,
   "metadata": {
    "id": "c3Dac0M_9hE2"
   },
   "outputs": [],
   "source": [
    "# Model compilation\n",
    "model.compile(\n",
    "    optimizer='adam',\n",
    "    loss='sparse_categorical_crossentropy',\n",
    "    metrics=['accuracy']\n",
    ")"
   ]
  },
  {
   "cell_type": "markdown",
   "metadata": {
    "id": "7XI0j1Iu9hE2"
   },
   "source": [
    "# Model training"
   ]
  },
  {
   "cell_type": "code",
   "execution_count": 11,
   "metadata": {
    "colab": {
     "base_uri": "https://localhost:8080/"
    },
    "id": "WirBl-JE9hE3",
    "outputId": "71b30ca2-8294-4d9d-8aa2-800d90d399de",
    "scrolled": true
   },
   "outputs": [
    {
     "name": "stdout",
     "output_type": "stream",
     "text": [
      "Epoch 1/1000\n",
      " 1/29 [>.............................] - ETA: 9s - loss: 1.5160 - accuracy: 0.3672\n",
      "Epoch 1: saving model to model/keypoint_classifier/keypoint_classifier.hdf5\n",
      "29/29 [==============================] - 1s 6ms/step - loss: 1.4626 - accuracy: 0.3519 - val_loss: 1.3721 - val_accuracy: 0.3864\n",
      "Epoch 2/1000\n",
      " 1/29 [>.............................] - ETA: 0s - loss: 1.4364 - accuracy: 0.3438\n",
      "Epoch 2: saving model to model/keypoint_classifier/keypoint_classifier.hdf5\n",
      "29/29 [==============================] - 0s 3ms/step - loss: 1.3627 - accuracy: 0.3918 - val_loss: 1.2883 - val_accuracy: 0.4115\n",
      "Epoch 3/1000\n",
      " 1/29 [>.............................] - ETA: 0s - loss: 1.3026 - accuracy: 0.4297\n",
      "Epoch 3: saving model to model/keypoint_classifier/keypoint_classifier.hdf5\n",
      "29/29 [==============================] - 0s 2ms/step - loss: 1.2998 - accuracy: 0.4268 - val_loss: 1.2160 - val_accuracy: 0.5053\n",
      "Epoch 4/1000\n",
      " 1/29 [>.............................] - ETA: 0s - loss: 1.2780 - accuracy: 0.4141\n",
      "Epoch 4: saving model to model/keypoint_classifier/keypoint_classifier.hdf5\n",
      "29/29 [==============================] - 0s 2ms/step - loss: 1.2439 - accuracy: 0.4468 - val_loss: 1.1438 - val_accuracy: 0.5610\n",
      "Epoch 5/1000\n",
      " 1/29 [>.............................] - ETA: 0s - loss: 1.2056 - accuracy: 0.3984\n",
      "Epoch 5: saving model to model/keypoint_classifier/keypoint_classifier.hdf5\n",
      "29/29 [==============================] - 0s 2ms/step - loss: 1.1880 - accuracy: 0.4891 - val_loss: 1.0777 - val_accuracy: 0.6306\n",
      "Epoch 6/1000\n",
      " 1/29 [>.............................] - ETA: 0s - loss: 1.2009 - accuracy: 0.4297\n",
      "Epoch 6: saving model to model/keypoint_classifier/keypoint_classifier.hdf5\n",
      "29/29 [==============================] - 0s 2ms/step - loss: 1.1421 - accuracy: 0.5117 - val_loss: 1.0146 - val_accuracy: 0.6734\n",
      "Epoch 7/1000\n",
      " 1/29 [>.............................] - ETA: 0s - loss: 1.1577 - accuracy: 0.5469\n",
      "Epoch 7: saving model to model/keypoint_classifier/keypoint_classifier.hdf5\n",
      "29/29 [==============================] - 0s 2ms/step - loss: 1.1007 - accuracy: 0.5330 - val_loss: 0.9626 - val_accuracy: 0.6774\n",
      "Epoch 8/1000\n",
      " 1/29 [>.............................] - ETA: 0s - loss: 1.0750 - accuracy: 0.5312\n",
      "Epoch 8: saving model to model/keypoint_classifier/keypoint_classifier.hdf5\n",
      "29/29 [==============================] - 0s 2ms/step - loss: 1.0748 - accuracy: 0.5470 - val_loss: 0.9139 - val_accuracy: 0.7001\n",
      "Epoch 9/1000\n",
      " 1/29 [>.............................] - ETA: 0s - loss: 0.9447 - accuracy: 0.5938\n",
      "Epoch 9: saving model to model/keypoint_classifier/keypoint_classifier.hdf5\n",
      "29/29 [==============================] - 0s 2ms/step - loss: 1.0331 - accuracy: 0.5648 - val_loss: 0.8658 - val_accuracy: 0.7179\n",
      "Epoch 10/1000\n",
      " 1/29 [>.............................] - ETA: 0s - loss: 0.9857 - accuracy: 0.6016\n",
      "Epoch 10: saving model to model/keypoint_classifier/keypoint_classifier.hdf5\n",
      "29/29 [==============================] - 0s 2ms/step - loss: 1.0078 - accuracy: 0.5802 - val_loss: 0.8272 - val_accuracy: 0.7308\n",
      "Epoch 11/1000\n",
      " 1/29 [>.............................] - ETA: 0s - loss: 1.0359 - accuracy: 0.4844\n",
      "Epoch 11: saving model to model/keypoint_classifier/keypoint_classifier.hdf5\n",
      "29/29 [==============================] - 0s 2ms/step - loss: 0.9995 - accuracy: 0.5810 - val_loss: 0.7933 - val_accuracy: 0.7357\n",
      "Epoch 12/1000\n",
      " 1/29 [>.............................] - ETA: 0s - loss: 0.9964 - accuracy: 0.6016\n",
      "Epoch 12: saving model to model/keypoint_classifier/keypoint_classifier.hdf5\n",
      "29/29 [==============================] - 0s 2ms/step - loss: 0.9813 - accuracy: 0.5920 - val_loss: 0.7609 - val_accuracy: 0.7454\n",
      "Epoch 13/1000\n",
      " 1/29 [>.............................] - ETA: 0s - loss: 0.9366 - accuracy: 0.5859\n",
      "Epoch 13: saving model to model/keypoint_classifier/keypoint_classifier.hdf5\n",
      "29/29 [==============================] - 0s 2ms/step - loss: 0.9339 - accuracy: 0.6179 - val_loss: 0.7202 - val_accuracy: 0.7680\n",
      "Epoch 14/1000\n",
      " 1/29 [>.............................] - ETA: 0s - loss: 0.8639 - accuracy: 0.6562\n",
      "Epoch 14: saving model to model/keypoint_classifier/keypoint_classifier.hdf5\n",
      "29/29 [==============================] - 0s 3ms/step - loss: 0.9226 - accuracy: 0.6244 - val_loss: 0.6858 - val_accuracy: 0.8052\n",
      "Epoch 15/1000\n",
      " 1/29 [>.............................] - ETA: 0s - loss: 0.8347 - accuracy: 0.6797\n",
      "Epoch 15: saving model to model/keypoint_classifier/keypoint_classifier.hdf5\n",
      "29/29 [==============================] - 0s 2ms/step - loss: 0.9113 - accuracy: 0.6241 - val_loss: 0.6614 - val_accuracy: 0.8302\n",
      "Epoch 16/1000\n",
      " 1/29 [>.............................] - ETA: 0s - loss: 0.8737 - accuracy: 0.6406\n",
      "Epoch 16: saving model to model/keypoint_classifier/keypoint_classifier.hdf5\n",
      "29/29 [==============================] - 0s 2ms/step - loss: 0.8795 - accuracy: 0.6419 - val_loss: 0.6281 - val_accuracy: 0.8513\n",
      "Epoch 17/1000\n",
      " 1/29 [>.............................] - ETA: 0s - loss: 0.8173 - accuracy: 0.6875\n",
      "Epoch 17: saving model to model/keypoint_classifier/keypoint_classifier.hdf5\n",
      "29/29 [==============================] - 0s 2ms/step - loss: 0.8677 - accuracy: 0.6540 - val_loss: 0.6080 - val_accuracy: 0.8529\n",
      "Epoch 18/1000\n",
      " 1/29 [>.............................] - ETA: 0s - loss: 0.8284 - accuracy: 0.6484\n",
      "Epoch 18: saving model to model/keypoint_classifier/keypoint_classifier.hdf5\n",
      "29/29 [==============================] - 0s 2ms/step - loss: 0.8646 - accuracy: 0.6467 - val_loss: 0.5902 - val_accuracy: 0.8513\n",
      "Epoch 19/1000\n",
      " 1/29 [>.............................] - ETA: 0s - loss: 0.8333 - accuracy: 0.6719\n",
      "Epoch 19: saving model to model/keypoint_classifier/keypoint_classifier.hdf5\n",
      "29/29 [==============================] - 0s 2ms/step - loss: 0.8428 - accuracy: 0.6691 - val_loss: 0.5730 - val_accuracy: 0.8610\n",
      "Epoch 20/1000\n",
      " 1/29 [>.............................] - ETA: 0s - loss: 0.8746 - accuracy: 0.6641\n",
      "Epoch 20: saving model to model/keypoint_classifier/keypoint_classifier.hdf5\n",
      "29/29 [==============================] - 0s 2ms/step - loss: 0.8478 - accuracy: 0.6572 - val_loss: 0.5621 - val_accuracy: 0.8634\n",
      "Epoch 21/1000\n",
      " 1/29 [>.............................] - ETA: 0s - loss: 0.8199 - accuracy: 0.6562\n",
      "Epoch 21: saving model to model/keypoint_classifier/keypoint_classifier.hdf5\n",
      "29/29 [==============================] - 0s 2ms/step - loss: 0.8228 - accuracy: 0.6669 - val_loss: 0.5412 - val_accuracy: 0.8787\n",
      "Epoch 22/1000\n",
      " 1/29 [>.............................] - ETA: 0s - loss: 0.9077 - accuracy: 0.6641\n",
      "Epoch 22: saving model to model/keypoint_classifier/keypoint_classifier.hdf5\n",
      "29/29 [==============================] - 0s 2ms/step - loss: 0.8161 - accuracy: 0.6650 - val_loss: 0.5296 - val_accuracy: 0.8812\n",
      "Epoch 23/1000\n",
      " 1/29 [>.............................] - ETA: 0s - loss: 0.8609 - accuracy: 0.6641\n",
      "Epoch 23: saving model to model/keypoint_classifier/keypoint_classifier.hdf5\n",
      "29/29 [==============================] - 0s 2ms/step - loss: 0.8024 - accuracy: 0.6847 - val_loss: 0.5159 - val_accuracy: 0.8836\n",
      "Epoch 24/1000\n",
      " 1/29 [>.............................] - ETA: 0s - loss: 0.6902 - accuracy: 0.7422\n",
      "Epoch 24: saving model to model/keypoint_classifier/keypoint_classifier.hdf5\n",
      "29/29 [==============================] - 0s 2ms/step - loss: 0.7872 - accuracy: 0.6839 - val_loss: 0.5089 - val_accuracy: 0.8812\n",
      "Epoch 25/1000\n",
      " 1/29 [>.............................] - ETA: 0s - loss: 0.8991 - accuracy: 0.6016\n",
      "Epoch 25: saving model to model/keypoint_classifier/keypoint_classifier.hdf5\n",
      "29/29 [==============================] - 0s 2ms/step - loss: 0.7851 - accuracy: 0.6783 - val_loss: 0.4958 - val_accuracy: 0.8892\n",
      "Epoch 26/1000\n",
      " 1/29 [>.............................] - ETA: 0s - loss: 0.7548 - accuracy: 0.7109\n",
      "Epoch 26: saving model to model/keypoint_classifier/keypoint_classifier.hdf5\n",
      "29/29 [==============================] - 0s 2ms/step - loss: 0.7726 - accuracy: 0.6904 - val_loss: 0.4834 - val_accuracy: 0.8884\n",
      "Epoch 27/1000\n",
      " 1/29 [>.............................] - ETA: 0s - loss: 0.8797 - accuracy: 0.6016\n",
      "Epoch 27: saving model to model/keypoint_classifier/keypoint_classifier.hdf5\n",
      "29/29 [==============================] - 0s 2ms/step - loss: 0.7575 - accuracy: 0.6998 - val_loss: 0.4763 - val_accuracy: 0.8860\n",
      "Epoch 28/1000\n"
     ]
    },
    {
     "name": "stdout",
     "output_type": "stream",
     "text": [
      " 1/29 [>.............................] - ETA: 0s - loss: 0.7565 - accuracy: 0.6797\n",
      "Epoch 28: saving model to model/keypoint_classifier/keypoint_classifier.hdf5\n",
      "29/29 [==============================] - 0s 2ms/step - loss: 0.7551 - accuracy: 0.6933 - val_loss: 0.4677 - val_accuracy: 0.8901\n",
      "Epoch 29/1000\n",
      " 1/29 [>.............................] - ETA: 0s - loss: 0.7605 - accuracy: 0.7109\n",
      "Epoch 29: saving model to model/keypoint_classifier/keypoint_classifier.hdf5\n",
      "29/29 [==============================] - 0s 2ms/step - loss: 0.7805 - accuracy: 0.6931 - val_loss: 0.4634 - val_accuracy: 0.8909\n",
      "Epoch 30/1000\n",
      " 1/29 [>.............................] - ETA: 0s - loss: 0.9528 - accuracy: 0.6094\n",
      "Epoch 30: saving model to model/keypoint_classifier/keypoint_classifier.hdf5\n",
      "29/29 [==============================] - 0s 2ms/step - loss: 0.7457 - accuracy: 0.7092 - val_loss: 0.4530 - val_accuracy: 0.8949\n",
      "Epoch 31/1000\n",
      " 1/29 [>.............................] - ETA: 0s - loss: 0.7251 - accuracy: 0.7422\n",
      "Epoch 31: saving model to model/keypoint_classifier/keypoint_classifier.hdf5\n",
      "29/29 [==============================] - 0s 2ms/step - loss: 0.7444 - accuracy: 0.7036 - val_loss: 0.4445 - val_accuracy: 0.8925\n",
      "Epoch 32/1000\n",
      " 1/29 [>.............................] - ETA: 0s - loss: 0.6219 - accuracy: 0.8047\n",
      "Epoch 32: saving model to model/keypoint_classifier/keypoint_classifier.hdf5\n",
      "29/29 [==============================] - 0s 2ms/step - loss: 0.7272 - accuracy: 0.7157 - val_loss: 0.4317 - val_accuracy: 0.8965\n",
      "Epoch 33/1000\n",
      " 1/29 [>.............................] - ETA: 0s - loss: 0.7133 - accuracy: 0.7344\n",
      "Epoch 33: saving model to model/keypoint_classifier/keypoint_classifier.hdf5\n",
      "29/29 [==============================] - 0s 2ms/step - loss: 0.7215 - accuracy: 0.7203 - val_loss: 0.4267 - val_accuracy: 0.9006\n",
      "Epoch 34/1000\n",
      " 1/29 [>.............................] - ETA: 0s - loss: 0.6487 - accuracy: 0.7656\n",
      "Epoch 34: saving model to model/keypoint_classifier/keypoint_classifier.hdf5\n",
      "29/29 [==============================] - 0s 2ms/step - loss: 0.7064 - accuracy: 0.7203 - val_loss: 0.4216 - val_accuracy: 0.9038\n",
      "Epoch 35/1000\n",
      " 1/29 [>.............................] - ETA: 0s - loss: 0.6989 - accuracy: 0.7344\n",
      "Epoch 35: saving model to model/keypoint_classifier/keypoint_classifier.hdf5\n",
      "29/29 [==============================] - 0s 2ms/step - loss: 0.7063 - accuracy: 0.7141 - val_loss: 0.4184 - val_accuracy: 0.8949\n",
      "Epoch 36/1000\n",
      " 1/29 [>.............................] - ETA: 0s - loss: 0.7194 - accuracy: 0.7422\n",
      "Epoch 36: saving model to model/keypoint_classifier/keypoint_classifier.hdf5\n",
      "29/29 [==============================] - 0s 2ms/step - loss: 0.7278 - accuracy: 0.7071 - val_loss: 0.4137 - val_accuracy: 0.8989\n",
      "Epoch 37/1000\n",
      " 1/29 [>.............................] - ETA: 0s - loss: 0.7268 - accuracy: 0.7266\n",
      "Epoch 37: saving model to model/keypoint_classifier/keypoint_classifier.hdf5\n",
      "29/29 [==============================] - 0s 2ms/step - loss: 0.7010 - accuracy: 0.7319 - val_loss: 0.4048 - val_accuracy: 0.9030\n",
      "Epoch 38/1000\n",
      " 1/29 [>.............................] - ETA: 0s - loss: 0.7822 - accuracy: 0.7031\n",
      "Epoch 38: saving model to model/keypoint_classifier/keypoint_classifier.hdf5\n",
      "29/29 [==============================] - 0s 2ms/step - loss: 0.6978 - accuracy: 0.7246 - val_loss: 0.4014 - val_accuracy: 0.9022\n",
      "Epoch 39/1000\n",
      " 1/29 [>.............................] - ETA: 0s - loss: 0.6903 - accuracy: 0.7344\n",
      "Epoch 39: saving model to model/keypoint_classifier/keypoint_classifier.hdf5\n",
      "29/29 [==============================] - 0s 3ms/step - loss: 0.6909 - accuracy: 0.7216 - val_loss: 0.3945 - val_accuracy: 0.9006\n",
      "Epoch 40/1000\n",
      " 1/29 [>.............................] - ETA: 0s - loss: 0.6656 - accuracy: 0.7344\n",
      "Epoch 40: saving model to model/keypoint_classifier/keypoint_classifier.hdf5\n",
      "29/29 [==============================] - 0s 2ms/step - loss: 0.6898 - accuracy: 0.7278 - val_loss: 0.3893 - val_accuracy: 0.9054\n",
      "Epoch 41/1000\n",
      " 1/29 [>.............................] - ETA: 0s - loss: 0.7251 - accuracy: 0.7109\n",
      "Epoch 41: saving model to model/keypoint_classifier/keypoint_classifier.hdf5\n",
      "29/29 [==============================] - 0s 2ms/step - loss: 0.6718 - accuracy: 0.7330 - val_loss: 0.3837 - val_accuracy: 0.9062\n",
      "Epoch 42/1000\n",
      " 1/29 [>.............................] - ETA: 0s - loss: 0.5985 - accuracy: 0.7656\n",
      "Epoch 42: saving model to model/keypoint_classifier/keypoint_classifier.hdf5\n",
      "29/29 [==============================] - 0s 2ms/step - loss: 0.6896 - accuracy: 0.7262 - val_loss: 0.3770 - val_accuracy: 0.9184\n",
      "Epoch 43/1000\n",
      " 1/29 [>.............................] - ETA: 0s - loss: 0.7237 - accuracy: 0.7266\n",
      "Epoch 43: saving model to model/keypoint_classifier/keypoint_classifier.hdf5\n",
      "29/29 [==============================] - 0s 2ms/step - loss: 0.6985 - accuracy: 0.7179 - val_loss: 0.3829 - val_accuracy: 0.9095\n",
      "Epoch 44/1000\n",
      " 1/29 [>.............................] - ETA: 0s - loss: 0.6025 - accuracy: 0.7266\n",
      "Epoch 44: saving model to model/keypoint_classifier/keypoint_classifier.hdf5\n",
      "29/29 [==============================] - 0s 2ms/step - loss: 0.6609 - accuracy: 0.7413 - val_loss: 0.3815 - val_accuracy: 0.9086\n",
      "Epoch 45/1000\n",
      " 1/29 [>.............................] - ETA: 0s - loss: 0.7045 - accuracy: 0.7031\n",
      "Epoch 45: saving model to model/keypoint_classifier/keypoint_classifier.hdf5\n",
      "29/29 [==============================] - 0s 2ms/step - loss: 0.6621 - accuracy: 0.7413 - val_loss: 0.3701 - val_accuracy: 0.9111\n",
      "Epoch 46/1000\n",
      " 1/29 [>.............................] - ETA: 0s - loss: 0.7250 - accuracy: 0.7031\n",
      "Epoch 46: saving model to model/keypoint_classifier/keypoint_classifier.hdf5\n",
      "29/29 [==============================] - 0s 2ms/step - loss: 0.6771 - accuracy: 0.7324 - val_loss: 0.3727 - val_accuracy: 0.9111\n",
      "Epoch 47/1000\n",
      " 1/29 [>.............................] - ETA: 0s - loss: 0.6446 - accuracy: 0.7578\n",
      "Epoch 47: saving model to model/keypoint_classifier/keypoint_classifier.hdf5\n",
      "29/29 [==============================] - 0s 2ms/step - loss: 0.6862 - accuracy: 0.7335 - val_loss: 0.3644 - val_accuracy: 0.9119\n",
      "Epoch 48/1000\n",
      " 1/29 [>.............................] - ETA: 0s - loss: 0.7068 - accuracy: 0.7422\n",
      "Epoch 48: saving model to model/keypoint_classifier/keypoint_classifier.hdf5\n",
      "29/29 [==============================] - 0s 2ms/step - loss: 0.6690 - accuracy: 0.7332 - val_loss: 0.3686 - val_accuracy: 0.9143\n",
      "Epoch 49/1000\n",
      " 1/29 [>.............................] - ETA: 0s - loss: 0.6517 - accuracy: 0.6875\n",
      "Epoch 49: saving model to model/keypoint_classifier/keypoint_classifier.hdf5\n",
      "29/29 [==============================] - 0s 2ms/step - loss: 0.6676 - accuracy: 0.7367 - val_loss: 0.3659 - val_accuracy: 0.9143\n",
      "Epoch 50/1000\n",
      " 1/29 [>.............................] - ETA: 0s - loss: 0.6712 - accuracy: 0.7188\n",
      "Epoch 50: saving model to model/keypoint_classifier/keypoint_classifier.hdf5\n",
      "29/29 [==============================] - 0s 2ms/step - loss: 0.6618 - accuracy: 0.7392 - val_loss: 0.3626 - val_accuracy: 0.9135\n",
      "Epoch 51/1000\n",
      " 1/29 [>.............................] - ETA: 0s - loss: 0.6974 - accuracy: 0.7266\n",
      "Epoch 51: saving model to model/keypoint_classifier/keypoint_classifier.hdf5\n",
      "29/29 [==============================] - 0s 2ms/step - loss: 0.6811 - accuracy: 0.7335 - val_loss: 0.3626 - val_accuracy: 0.9135\n",
      "Epoch 52/1000\n",
      " 1/29 [>.............................] - ETA: 0s - loss: 0.6825 - accuracy: 0.7578\n",
      "Epoch 52: saving model to model/keypoint_classifier/keypoint_classifier.hdf5\n",
      "29/29 [==============================] - 0s 2ms/step - loss: 0.6586 - accuracy: 0.7448 - val_loss: 0.3586 - val_accuracy: 0.9119\n",
      "Epoch 53/1000\n",
      " 1/29 [>.............................] - ETA: 0s - loss: 0.5662 - accuracy: 0.8281\n",
      "Epoch 53: saving model to model/keypoint_classifier/keypoint_classifier.hdf5\n",
      "29/29 [==============================] - 0s 2ms/step - loss: 0.6503 - accuracy: 0.7402 - val_loss: 0.3522 - val_accuracy: 0.9127\n",
      "Epoch 54/1000\n",
      " 1/29 [>.............................] - ETA: 0s - loss: 0.6796 - accuracy: 0.7812\n",
      "Epoch 54: saving model to model/keypoint_classifier/keypoint_classifier.hdf5\n",
      "29/29 [==============================] - 0s 2ms/step - loss: 0.6422 - accuracy: 0.7540 - val_loss: 0.3489 - val_accuracy: 0.9119\n",
      "Epoch 55/1000\n"
     ]
    },
    {
     "name": "stdout",
     "output_type": "stream",
     "text": [
      " 1/29 [>.............................] - ETA: 0s - loss: 0.7219 - accuracy: 0.7344\n",
      "Epoch 55: saving model to model/keypoint_classifier/keypoint_classifier.hdf5\n",
      "29/29 [==============================] - 0s 2ms/step - loss: 0.6602 - accuracy: 0.7475 - val_loss: 0.3520 - val_accuracy: 0.9127\n",
      "Epoch 56/1000\n",
      " 1/29 [>.............................] - ETA: 0s - loss: 0.6118 - accuracy: 0.7344\n",
      "Epoch 56: saving model to model/keypoint_classifier/keypoint_classifier.hdf5\n",
      "29/29 [==============================] - 0s 2ms/step - loss: 0.6531 - accuracy: 0.7454 - val_loss: 0.3514 - val_accuracy: 0.9127\n",
      "Epoch 57/1000\n",
      " 1/29 [>.............................] - ETA: 0s - loss: 0.4628 - accuracy: 0.8359\n",
      "Epoch 57: saving model to model/keypoint_classifier/keypoint_classifier.hdf5\n",
      "29/29 [==============================] - 0s 3ms/step - loss: 0.6359 - accuracy: 0.7529 - val_loss: 0.3454 - val_accuracy: 0.9143\n",
      "Epoch 58/1000\n",
      " 1/29 [>.............................] - ETA: 0s - loss: 0.6899 - accuracy: 0.6875\n",
      "Epoch 58: saving model to model/keypoint_classifier/keypoint_classifier.hdf5\n",
      "29/29 [==============================] - 0s 2ms/step - loss: 0.6493 - accuracy: 0.7497 - val_loss: 0.3490 - val_accuracy: 0.9111\n",
      "Epoch 59/1000\n",
      " 1/29 [>.............................] - ETA: 0s - loss: 0.6590 - accuracy: 0.7578\n",
      "Epoch 59: saving model to model/keypoint_classifier/keypoint_classifier.hdf5\n",
      "29/29 [==============================] - 0s 3ms/step - loss: 0.6466 - accuracy: 0.7486 - val_loss: 0.3433 - val_accuracy: 0.9151\n",
      "Epoch 60/1000\n",
      " 1/29 [>.............................] - ETA: 0s - loss: 0.6546 - accuracy: 0.7656\n",
      "Epoch 60: saving model to model/keypoint_classifier/keypoint_classifier.hdf5\n",
      "29/29 [==============================] - 0s 2ms/step - loss: 0.6285 - accuracy: 0.7610 - val_loss: 0.3388 - val_accuracy: 0.9167\n",
      "Epoch 61/1000\n",
      " 1/29 [>.............................] - ETA: 0s - loss: 0.6995 - accuracy: 0.6875\n",
      "Epoch 61: saving model to model/keypoint_classifier/keypoint_classifier.hdf5\n",
      "29/29 [==============================] - 0s 2ms/step - loss: 0.6348 - accuracy: 0.7567 - val_loss: 0.3438 - val_accuracy: 0.9192\n",
      "Epoch 62/1000\n",
      " 1/29 [>.............................] - ETA: 0s - loss: 0.5679 - accuracy: 0.7500\n",
      "Epoch 62: saving model to model/keypoint_classifier/keypoint_classifier.hdf5\n",
      "29/29 [==============================] - 0s 2ms/step - loss: 0.6470 - accuracy: 0.7408 - val_loss: 0.3405 - val_accuracy: 0.9151\n",
      "Epoch 63/1000\n",
      " 1/29 [>.............................] - ETA: 0s - loss: 0.5549 - accuracy: 0.7500\n",
      "Epoch 63: saving model to model/keypoint_classifier/keypoint_classifier.hdf5\n",
      "29/29 [==============================] - 0s 2ms/step - loss: 0.6285 - accuracy: 0.7521 - val_loss: 0.3379 - val_accuracy: 0.9184\n",
      "Epoch 64/1000\n",
      " 1/29 [>.............................] - ETA: 0s - loss: 0.6336 - accuracy: 0.7344\n",
      "Epoch 64: saving model to model/keypoint_classifier/keypoint_classifier.hdf5\n",
      "29/29 [==============================] - 0s 2ms/step - loss: 0.6307 - accuracy: 0.7561 - val_loss: 0.3364 - val_accuracy: 0.9127\n",
      "Epoch 65/1000\n",
      " 1/29 [>.............................] - ETA: 0s - loss: 0.6129 - accuracy: 0.7422\n",
      "Epoch 65: saving model to model/keypoint_classifier/keypoint_classifier.hdf5\n",
      "29/29 [==============================] - 0s 2ms/step - loss: 0.6276 - accuracy: 0.7556 - val_loss: 0.3318 - val_accuracy: 0.9240\n",
      "Epoch 66/1000\n",
      " 1/29 [>.............................] - ETA: 0s - loss: 0.6601 - accuracy: 0.7734\n",
      "Epoch 66: saving model to model/keypoint_classifier/keypoint_classifier.hdf5\n",
      "29/29 [==============================] - 0s 2ms/step - loss: 0.6250 - accuracy: 0.7551 - val_loss: 0.3277 - val_accuracy: 0.9127\n",
      "Epoch 67/1000\n",
      " 1/29 [>.............................] - ETA: 0s - loss: 0.6941 - accuracy: 0.7109\n",
      "Epoch 67: saving model to model/keypoint_classifier/keypoint_classifier.hdf5\n",
      "29/29 [==============================] - 0s 2ms/step - loss: 0.6209 - accuracy: 0.7583 - val_loss: 0.3283 - val_accuracy: 0.9184\n",
      "Epoch 68/1000\n",
      " 1/29 [>.............................] - ETA: 0s - loss: 0.4918 - accuracy: 0.7969\n",
      "Epoch 68: saving model to model/keypoint_classifier/keypoint_classifier.hdf5\n",
      "29/29 [==============================] - 0s 2ms/step - loss: 0.6183 - accuracy: 0.7610 - val_loss: 0.3286 - val_accuracy: 0.9159\n",
      "Epoch 69/1000\n",
      " 1/29 [>.............................] - ETA: 0s - loss: 0.5389 - accuracy: 0.8047\n",
      "Epoch 69: saving model to model/keypoint_classifier/keypoint_classifier.hdf5\n",
      "29/29 [==============================] - 0s 2ms/step - loss: 0.6034 - accuracy: 0.7664 - val_loss: 0.3240 - val_accuracy: 0.9232\n",
      "Epoch 70/1000\n",
      " 1/29 [>.............................] - ETA: 0s - loss: 0.4725 - accuracy: 0.8125\n",
      "Epoch 70: saving model to model/keypoint_classifier/keypoint_classifier.hdf5\n",
      "29/29 [==============================] - 0s 2ms/step - loss: 0.6283 - accuracy: 0.7602 - val_loss: 0.3246 - val_accuracy: 0.9313\n",
      "Epoch 71/1000\n",
      " 1/29 [>.............................] - ETA: 0s - loss: 0.5381 - accuracy: 0.7734\n",
      "Epoch 71: saving model to model/keypoint_classifier/keypoint_classifier.hdf5\n",
      "29/29 [==============================] - 0s 2ms/step - loss: 0.6104 - accuracy: 0.7604 - val_loss: 0.3257 - val_accuracy: 0.9256\n",
      "Epoch 72/1000\n",
      " 1/29 [>.............................] - ETA: 0s - loss: 0.5841 - accuracy: 0.7344\n",
      "Epoch 72: saving model to model/keypoint_classifier/keypoint_classifier.hdf5\n",
      "29/29 [==============================] - 0s 2ms/step - loss: 0.6068 - accuracy: 0.7648 - val_loss: 0.3213 - val_accuracy: 0.9289\n",
      "Epoch 73/1000\n",
      " 1/29 [>.............................] - ETA: 0s - loss: 0.6071 - accuracy: 0.7344\n",
      "Epoch 73: saving model to model/keypoint_classifier/keypoint_classifier.hdf5\n",
      "29/29 [==============================] - 0s 2ms/step - loss: 0.6183 - accuracy: 0.7524 - val_loss: 0.3250 - val_accuracy: 0.9248\n",
      "Epoch 74/1000\n",
      " 1/29 [>.............................] - ETA: 0s - loss: 0.6719 - accuracy: 0.7422\n",
      "Epoch 74: saving model to model/keypoint_classifier/keypoint_classifier.hdf5\n",
      "29/29 [==============================] - 0s 2ms/step - loss: 0.6138 - accuracy: 0.7588 - val_loss: 0.3255 - val_accuracy: 0.9208\n",
      "Epoch 75/1000\n",
      " 1/29 [>.............................] - ETA: 0s - loss: 0.5214 - accuracy: 0.7812\n",
      "Epoch 75: saving model to model/keypoint_classifier/keypoint_classifier.hdf5\n",
      "29/29 [==============================] - 0s 2ms/step - loss: 0.6053 - accuracy: 0.7701 - val_loss: 0.3247 - val_accuracy: 0.9232\n",
      "Epoch 76/1000\n",
      " 1/29 [>.............................] - ETA: 0s - loss: 0.5975 - accuracy: 0.7969\n",
      "Epoch 76: saving model to model/keypoint_classifier/keypoint_classifier.hdf5\n",
      "29/29 [==============================] - 0s 2ms/step - loss: 0.6078 - accuracy: 0.7621 - val_loss: 0.3278 - val_accuracy: 0.9192\n",
      "Epoch 77/1000\n",
      " 1/29 [>.............................] - ETA: 0s - loss: 0.6231 - accuracy: 0.7656\n",
      "Epoch 77: saving model to model/keypoint_classifier/keypoint_classifier.hdf5\n",
      "29/29 [==============================] - 0s 2ms/step - loss: 0.6199 - accuracy: 0.7583 - val_loss: 0.3298 - val_accuracy: 0.9264\n",
      "Epoch 78/1000\n",
      " 1/29 [>.............................] - ETA: 0s - loss: 0.5915 - accuracy: 0.7812\n",
      "Epoch 78: saving model to model/keypoint_classifier/keypoint_classifier.hdf5\n",
      "29/29 [==============================] - 0s 2ms/step - loss: 0.6134 - accuracy: 0.7642 - val_loss: 0.3249 - val_accuracy: 0.9272\n",
      "Epoch 79/1000\n",
      " 1/29 [>.............................] - ETA: 0s - loss: 0.6816 - accuracy: 0.7344\n",
      "Epoch 79: saving model to model/keypoint_classifier/keypoint_classifier.hdf5\n",
      "29/29 [==============================] - 0s 2ms/step - loss: 0.5958 - accuracy: 0.7693 - val_loss: 0.3124 - val_accuracy: 0.9345\n",
      "Epoch 80/1000\n",
      " 1/29 [>.............................] - ETA: 0s - loss: 0.5343 - accuracy: 0.8047\n",
      "Epoch 80: saving model to model/keypoint_classifier/keypoint_classifier.hdf5\n",
      "29/29 [==============================] - 0s 3ms/step - loss: 0.6088 - accuracy: 0.7629 - val_loss: 0.3184 - val_accuracy: 0.9305\n",
      "Epoch 81/1000\n",
      " 1/29 [>.............................] - ETA: 0s - loss: 0.5606 - accuracy: 0.7344\n",
      "Epoch 81: saving model to model/keypoint_classifier/keypoint_classifier.hdf5\n",
      "29/29 [==============================] - 0s 2ms/step - loss: 0.6155 - accuracy: 0.7559 - val_loss: 0.3284 - val_accuracy: 0.9289\n",
      "Epoch 82/1000\n"
     ]
    },
    {
     "name": "stdout",
     "output_type": "stream",
     "text": [
      " 1/29 [>.............................] - ETA: 0s - loss: 0.5444 - accuracy: 0.7969\n",
      "Epoch 82: saving model to model/keypoint_classifier/keypoint_classifier.hdf5\n",
      "29/29 [==============================] - 0s 2ms/step - loss: 0.6113 - accuracy: 0.7731 - val_loss: 0.3191 - val_accuracy: 0.9264\n",
      "Epoch 83/1000\n",
      " 1/29 [>.............................] - ETA: 0s - loss: 0.6519 - accuracy: 0.7656\n",
      "Epoch 83: saving model to model/keypoint_classifier/keypoint_classifier.hdf5\n",
      "29/29 [==============================] - 0s 2ms/step - loss: 0.5999 - accuracy: 0.7710 - val_loss: 0.3157 - val_accuracy: 0.9281\n",
      "Epoch 84/1000\n",
      " 1/29 [>.............................] - ETA: 0s - loss: 0.5461 - accuracy: 0.7969\n",
      "Epoch 84: saving model to model/keypoint_classifier/keypoint_classifier.hdf5\n",
      "29/29 [==============================] - 0s 2ms/step - loss: 0.6104 - accuracy: 0.7688 - val_loss: 0.3202 - val_accuracy: 0.9289\n",
      "Epoch 85/1000\n",
      " 1/29 [>.............................] - ETA: 0s - loss: 0.6002 - accuracy: 0.7812\n",
      "Epoch 85: saving model to model/keypoint_classifier/keypoint_classifier.hdf5\n",
      "29/29 [==============================] - 0s 2ms/step - loss: 0.5965 - accuracy: 0.7750 - val_loss: 0.3101 - val_accuracy: 0.9313\n",
      "Epoch 86/1000\n",
      " 1/29 [>.............................] - ETA: 0s - loss: 0.5676 - accuracy: 0.7812\n",
      "Epoch 86: saving model to model/keypoint_classifier/keypoint_classifier.hdf5\n",
      "29/29 [==============================] - 0s 2ms/step - loss: 0.5937 - accuracy: 0.7774 - val_loss: 0.3125 - val_accuracy: 0.9329\n",
      "Epoch 87/1000\n",
      " 1/29 [>.............................] - ETA: 0s - loss: 0.5836 - accuracy: 0.7812\n",
      "Epoch 87: saving model to model/keypoint_classifier/keypoint_classifier.hdf5\n",
      "29/29 [==============================] - 0s 2ms/step - loss: 0.5997 - accuracy: 0.7823 - val_loss: 0.3131 - val_accuracy: 0.9272\n",
      "Epoch 88/1000\n",
      " 1/29 [>.............................] - ETA: 0s - loss: 0.5094 - accuracy: 0.7812\n",
      "Epoch 88: saving model to model/keypoint_classifier/keypoint_classifier.hdf5\n",
      "29/29 [==============================] - 0s 2ms/step - loss: 0.5833 - accuracy: 0.7728 - val_loss: 0.3178 - val_accuracy: 0.9321\n",
      "Epoch 89/1000\n",
      " 1/29 [>.............................] - ETA: 0s - loss: 0.5596 - accuracy: 0.7969\n",
      "Epoch 89: saving model to model/keypoint_classifier/keypoint_classifier.hdf5\n",
      "29/29 [==============================] - 0s 2ms/step - loss: 0.5926 - accuracy: 0.7666 - val_loss: 0.3125 - val_accuracy: 0.9329\n",
      "Epoch 90/1000\n",
      " 1/29 [>.............................] - ETA: 0s - loss: 0.7267 - accuracy: 0.7578\n",
      "Epoch 90: saving model to model/keypoint_classifier/keypoint_classifier.hdf5\n",
      "29/29 [==============================] - 0s 2ms/step - loss: 0.5960 - accuracy: 0.7710 - val_loss: 0.3091 - val_accuracy: 0.9345\n",
      "Epoch 91/1000\n",
      " 1/29 [>.............................] - ETA: 0s - loss: 0.5097 - accuracy: 0.8281\n",
      "Epoch 91: saving model to model/keypoint_classifier/keypoint_classifier.hdf5\n",
      "29/29 [==============================] - 0s 2ms/step - loss: 0.6167 - accuracy: 0.7613 - val_loss: 0.3173 - val_accuracy: 0.9361\n",
      "Epoch 92/1000\n",
      " 1/29 [>.............................] - ETA: 0s - loss: 0.6144 - accuracy: 0.7422\n",
      "Epoch 92: saving model to model/keypoint_classifier/keypoint_classifier.hdf5\n",
      "29/29 [==============================] - 0s 2ms/step - loss: 0.5907 - accuracy: 0.7674 - val_loss: 0.3116 - val_accuracy: 0.9321\n",
      "Epoch 93/1000\n",
      " 1/29 [>.............................] - ETA: 0s - loss: 0.7622 - accuracy: 0.7578\n",
      "Epoch 93: saving model to model/keypoint_classifier/keypoint_classifier.hdf5\n",
      "29/29 [==============================] - 0s 2ms/step - loss: 0.5970 - accuracy: 0.7696 - val_loss: 0.3119 - val_accuracy: 0.9353\n",
      "Epoch 94/1000\n",
      " 1/29 [>.............................] - ETA: 0s - loss: 0.5320 - accuracy: 0.8359\n",
      "Epoch 94: saving model to model/keypoint_classifier/keypoint_classifier.hdf5\n",
      "29/29 [==============================] - 0s 2ms/step - loss: 0.5903 - accuracy: 0.7766 - val_loss: 0.3064 - val_accuracy: 0.9386\n",
      "Epoch 95/1000\n",
      " 1/29 [>.............................] - ETA: 0s - loss: 0.6403 - accuracy: 0.7344\n",
      "Epoch 95: saving model to model/keypoint_classifier/keypoint_classifier.hdf5\n",
      "29/29 [==============================] - 0s 2ms/step - loss: 0.5813 - accuracy: 0.7796 - val_loss: 0.3087 - val_accuracy: 0.9378\n",
      "Epoch 96/1000\n",
      " 1/29 [>.............................] - ETA: 0s - loss: 0.5646 - accuracy: 0.7969\n",
      "Epoch 96: saving model to model/keypoint_classifier/keypoint_classifier.hdf5\n",
      "29/29 [==============================] - 0s 2ms/step - loss: 0.5866 - accuracy: 0.7820 - val_loss: 0.3037 - val_accuracy: 0.9353\n",
      "Epoch 97/1000\n",
      " 1/29 [>.............................] - ETA: 0s - loss: 0.7279 - accuracy: 0.7578\n",
      "Epoch 97: saving model to model/keypoint_classifier/keypoint_classifier.hdf5\n",
      "29/29 [==============================] - 0s 2ms/step - loss: 0.5919 - accuracy: 0.7774 - val_loss: 0.3052 - val_accuracy: 0.9353\n",
      "Epoch 98/1000\n",
      " 1/29 [>.............................] - ETA: 0s - loss: 0.6817 - accuracy: 0.7578\n",
      "Epoch 98: saving model to model/keypoint_classifier/keypoint_classifier.hdf5\n",
      "29/29 [==============================] - 0s 2ms/step - loss: 0.5952 - accuracy: 0.7712 - val_loss: 0.3101 - val_accuracy: 0.9329\n",
      "Epoch 99/1000\n",
      " 1/29 [>.............................] - ETA: 0s - loss: 0.5584 - accuracy: 0.7734\n",
      "Epoch 99: saving model to model/keypoint_classifier/keypoint_classifier.hdf5\n",
      "29/29 [==============================] - 0s 2ms/step - loss: 0.5885 - accuracy: 0.7758 - val_loss: 0.3049 - val_accuracy: 0.9305\n",
      "Epoch 100/1000\n",
      " 1/29 [>.............................] - ETA: 0s - loss: 0.6048 - accuracy: 0.7734\n",
      "Epoch 100: saving model to model/keypoint_classifier/keypoint_classifier.hdf5\n",
      "29/29 [==============================] - 0s 2ms/step - loss: 0.6053 - accuracy: 0.7699 - val_loss: 0.3111 - val_accuracy: 0.9361\n",
      "Epoch 101/1000\n",
      " 1/29 [>.............................] - ETA: 0s - loss: 0.5423 - accuracy: 0.7891\n",
      "Epoch 101: saving model to model/keypoint_classifier/keypoint_classifier.hdf5\n",
      "29/29 [==============================] - 0s 2ms/step - loss: 0.5951 - accuracy: 0.7710 - val_loss: 0.3131 - val_accuracy: 0.9264\n",
      "Epoch 102/1000\n",
      " 1/29 [>.............................] - ETA: 0s - loss: 0.3666 - accuracy: 0.8359\n",
      "Epoch 102: saving model to model/keypoint_classifier/keypoint_classifier.hdf5\n",
      "29/29 [==============================] - 0s 2ms/step - loss: 0.5897 - accuracy: 0.7685 - val_loss: 0.3158 - val_accuracy: 0.9378\n",
      "Epoch 103/1000\n",
      " 1/29 [>.............................] - ETA: 0s - loss: 0.5513 - accuracy: 0.8125\n",
      "Epoch 103: saving model to model/keypoint_classifier/keypoint_classifier.hdf5\n",
      "29/29 [==============================] - 0s 2ms/step - loss: 0.5800 - accuracy: 0.7766 - val_loss: 0.3182 - val_accuracy: 0.9329\n",
      "Epoch 104/1000\n",
      " 1/29 [>.............................] - ETA: 0s - loss: 0.6209 - accuracy: 0.7734\n",
      "Epoch 104: saving model to model/keypoint_classifier/keypoint_classifier.hdf5\n",
      "29/29 [==============================] - 0s 2ms/step - loss: 0.5712 - accuracy: 0.7788 - val_loss: 0.3158 - val_accuracy: 0.9216\n",
      "Epoch 105/1000\n",
      " 1/29 [>.............................] - ETA: 0s - loss: 0.5530 - accuracy: 0.7734\n",
      "Epoch 105: saving model to model/keypoint_classifier/keypoint_classifier.hdf5\n",
      "29/29 [==============================] - 0s 2ms/step - loss: 0.5987 - accuracy: 0.7650 - val_loss: 0.3138 - val_accuracy: 0.9337\n",
      "Epoch 106/1000\n",
      " 1/29 [>.............................] - ETA: 0s - loss: 0.5937 - accuracy: 0.7734\n",
      "Epoch 106: saving model to model/keypoint_classifier/keypoint_classifier.hdf5\n",
      "29/29 [==============================] - 0s 2ms/step - loss: 0.5824 - accuracy: 0.7833 - val_loss: 0.3157 - val_accuracy: 0.9329\n",
      "Epoch 107/1000\n",
      " 1/29 [>.............................] - ETA: 0s - loss: 0.5391 - accuracy: 0.8125\n",
      "Epoch 107: saving model to model/keypoint_classifier/keypoint_classifier.hdf5\n",
      "29/29 [==============================] - 0s 2ms/step - loss: 0.5764 - accuracy: 0.7828 - val_loss: 0.3101 - val_accuracy: 0.9394\n",
      "Epoch 108/1000\n",
      " 1/29 [>.............................] - ETA: 0s - loss: 0.6035 - accuracy: 0.7344\n",
      "Epoch 108: saving model to model/keypoint_classifier/keypoint_classifier.hdf5\n",
      "29/29 [==============================] - 0s 2ms/step - loss: 0.5837 - accuracy: 0.7715 - val_loss: 0.3128 - val_accuracy: 0.9386\n",
      "Epoch 109/1000\n"
     ]
    },
    {
     "name": "stdout",
     "output_type": "stream",
     "text": [
      " 1/29 [>.............................] - ETA: 0s - loss: 0.5484 - accuracy: 0.8047\n",
      "Epoch 109: saving model to model/keypoint_classifier/keypoint_classifier.hdf5\n",
      "29/29 [==============================] - 0s 2ms/step - loss: 0.5791 - accuracy: 0.7831 - val_loss: 0.3018 - val_accuracy: 0.9410\n",
      "Epoch 110/1000\n",
      " 1/29 [>.............................] - ETA: 0s - loss: 0.7858 - accuracy: 0.6953\n",
      "Epoch 110: saving model to model/keypoint_classifier/keypoint_classifier.hdf5\n",
      "29/29 [==============================] - 0s 2ms/step - loss: 0.5748 - accuracy: 0.7895 - val_loss: 0.3050 - val_accuracy: 0.9410\n",
      "Epoch 111/1000\n",
      " 1/29 [>.............................] - ETA: 0s - loss: 0.6444 - accuracy: 0.7969\n",
      "Epoch 111: saving model to model/keypoint_classifier/keypoint_classifier.hdf5\n",
      "29/29 [==============================] - 0s 2ms/step - loss: 0.5760 - accuracy: 0.7788 - val_loss: 0.3002 - val_accuracy: 0.9450\n",
      "Epoch 112/1000\n",
      " 1/29 [>.............................] - ETA: 0s - loss: 0.4806 - accuracy: 0.8125\n",
      "Epoch 112: saving model to model/keypoint_classifier/keypoint_classifier.hdf5\n",
      "29/29 [==============================] - 0s 2ms/step - loss: 0.5712 - accuracy: 0.7769 - val_loss: 0.3056 - val_accuracy: 0.9418\n",
      "Epoch 113/1000\n",
      " 1/29 [>.............................] - ETA: 0s - loss: 0.5844 - accuracy: 0.7344\n",
      "Epoch 113: saving model to model/keypoint_classifier/keypoint_classifier.hdf5\n",
      "29/29 [==============================] - 0s 2ms/step - loss: 0.5817 - accuracy: 0.7771 - val_loss: 0.3086 - val_accuracy: 0.9394\n",
      "Epoch 114/1000\n",
      " 1/29 [>.............................] - ETA: 0s - loss: 0.7388 - accuracy: 0.7578\n",
      "Epoch 114: saving model to model/keypoint_classifier/keypoint_classifier.hdf5\n",
      "29/29 [==============================] - 0s 2ms/step - loss: 0.5734 - accuracy: 0.7858 - val_loss: 0.3019 - val_accuracy: 0.9483\n",
      "Epoch 115/1000\n",
      " 1/29 [>.............................] - ETA: 0s - loss: 0.7306 - accuracy: 0.7734\n",
      "Epoch 115: saving model to model/keypoint_classifier/keypoint_classifier.hdf5\n",
      "29/29 [==============================] - 0s 2ms/step - loss: 0.5843 - accuracy: 0.7823 - val_loss: 0.3051 - val_accuracy: 0.9402\n",
      "Epoch 116/1000\n",
      " 1/29 [>.............................] - ETA: 0s - loss: 0.5181 - accuracy: 0.8359\n",
      "Epoch 116: saving model to model/keypoint_classifier/keypoint_classifier.hdf5\n",
      "29/29 [==============================] - 0s 2ms/step - loss: 0.5549 - accuracy: 0.7957 - val_loss: 0.2983 - val_accuracy: 0.9361\n",
      "Epoch 117/1000\n",
      " 1/29 [>.............................] - ETA: 0s - loss: 0.4639 - accuracy: 0.8516\n",
      "Epoch 117: saving model to model/keypoint_classifier/keypoint_classifier.hdf5\n",
      "29/29 [==============================] - 0s 2ms/step - loss: 0.5789 - accuracy: 0.7745 - val_loss: 0.3003 - val_accuracy: 0.9402\n",
      "Epoch 118/1000\n",
      " 1/29 [>.............................] - ETA: 0s - loss: 0.6561 - accuracy: 0.7812\n",
      "Epoch 118: saving model to model/keypoint_classifier/keypoint_classifier.hdf5\n",
      "29/29 [==============================] - 0s 3ms/step - loss: 0.5728 - accuracy: 0.7769 - val_loss: 0.3020 - val_accuracy: 0.9442\n",
      "Epoch 119/1000\n",
      " 1/29 [>.............................] - ETA: 0s - loss: 0.5225 - accuracy: 0.8125\n",
      "Epoch 119: saving model to model/keypoint_classifier/keypoint_classifier.hdf5\n",
      "29/29 [==============================] - 0s 3ms/step - loss: 0.5711 - accuracy: 0.7904 - val_loss: 0.2955 - val_accuracy: 0.9426\n",
      "Epoch 120/1000\n",
      " 1/29 [>.............................] - ETA: 0s - loss: 0.5932 - accuracy: 0.7891\n",
      "Epoch 120: saving model to model/keypoint_classifier/keypoint_classifier.hdf5\n",
      "29/29 [==============================] - 0s 2ms/step - loss: 0.5430 - accuracy: 0.7933 - val_loss: 0.2869 - val_accuracy: 0.9418\n",
      "Epoch 121/1000\n",
      " 1/29 [>.............................] - ETA: 0s - loss: 0.5691 - accuracy: 0.7500\n",
      "Epoch 121: saving model to model/keypoint_classifier/keypoint_classifier.hdf5\n",
      "29/29 [==============================] - 0s 2ms/step - loss: 0.6004 - accuracy: 0.7672 - val_loss: 0.3149 - val_accuracy: 0.9345\n",
      "Epoch 122/1000\n",
      " 1/29 [>.............................] - ETA: 0s - loss: 0.4663 - accuracy: 0.8594\n",
      "Epoch 122: saving model to model/keypoint_classifier/keypoint_classifier.hdf5\n",
      "29/29 [==============================] - 0s 2ms/step - loss: 0.5854 - accuracy: 0.7774 - val_loss: 0.3030 - val_accuracy: 0.9450\n",
      "Epoch 123/1000\n",
      " 1/29 [>.............................] - ETA: 0s - loss: 0.5360 - accuracy: 0.8203\n",
      "Epoch 123: saving model to model/keypoint_classifier/keypoint_classifier.hdf5\n",
      "29/29 [==============================] - 0s 2ms/step - loss: 0.5660 - accuracy: 0.7831 - val_loss: 0.3018 - val_accuracy: 0.9394\n",
      "Epoch 124/1000\n",
      " 1/29 [>.............................] - ETA: 0s - loss: 0.5367 - accuracy: 0.8047\n",
      "Epoch 124: saving model to model/keypoint_classifier/keypoint_classifier.hdf5\n",
      "29/29 [==============================] - 0s 2ms/step - loss: 0.5697 - accuracy: 0.7828 - val_loss: 0.3082 - val_accuracy: 0.9394\n",
      "Epoch 125/1000\n",
      " 1/29 [>.............................] - ETA: 0s - loss: 0.5399 - accuracy: 0.7891\n",
      "Epoch 125: saving model to model/keypoint_classifier/keypoint_classifier.hdf5\n",
      "29/29 [==============================] - 0s 2ms/step - loss: 0.5636 - accuracy: 0.7877 - val_loss: 0.3055 - val_accuracy: 0.9369\n",
      "Epoch 126/1000\n",
      " 1/29 [>.............................] - ETA: 0s - loss: 0.6098 - accuracy: 0.8047\n",
      "Epoch 126: saving model to model/keypoint_classifier/keypoint_classifier.hdf5\n",
      "29/29 [==============================] - 0s 2ms/step - loss: 0.5853 - accuracy: 0.7723 - val_loss: 0.3078 - val_accuracy: 0.9313\n",
      "Epoch 127/1000\n",
      " 1/29 [>.............................] - ETA: 0s - loss: 0.5714 - accuracy: 0.7578\n",
      "Epoch 127: saving model to model/keypoint_classifier/keypoint_classifier.hdf5\n",
      "29/29 [==============================] - 0s 2ms/step - loss: 0.5749 - accuracy: 0.7844 - val_loss: 0.2969 - val_accuracy: 0.9386\n",
      "Epoch 128/1000\n",
      " 1/29 [>.............................] - ETA: 0s - loss: 0.5856 - accuracy: 0.7969\n",
      "Epoch 128: saving model to model/keypoint_classifier/keypoint_classifier.hdf5\n",
      "29/29 [==============================] - 0s 3ms/step - loss: 0.5663 - accuracy: 0.7828 - val_loss: 0.3032 - val_accuracy: 0.9378\n",
      "Epoch 129/1000\n",
      " 1/29 [>.............................] - ETA: 0s - loss: 0.5102 - accuracy: 0.7891\n",
      "Epoch 129: saving model to model/keypoint_classifier/keypoint_classifier.hdf5\n",
      "29/29 [==============================] - 0s 2ms/step - loss: 0.5769 - accuracy: 0.7761 - val_loss: 0.3016 - val_accuracy: 0.9329\n",
      "Epoch 130/1000\n",
      " 1/29 [>.............................] - ETA: 0s - loss: 0.4542 - accuracy: 0.8281\n",
      "Epoch 130: saving model to model/keypoint_classifier/keypoint_classifier.hdf5\n",
      "29/29 [==============================] - 0s 2ms/step - loss: 0.5858 - accuracy: 0.7736 - val_loss: 0.2984 - val_accuracy: 0.9418\n",
      "Epoch 131/1000\n",
      " 1/29 [>.............................] - ETA: 0s - loss: 0.5114 - accuracy: 0.7734\n",
      "Epoch 131: saving model to model/keypoint_classifier/keypoint_classifier.hdf5\n",
      "29/29 [==============================] - 0s 2ms/step - loss: 0.5541 - accuracy: 0.7898 - val_loss: 0.3072 - val_accuracy: 0.9394\n",
      "Epoch 132/1000\n",
      " 1/29 [>.............................] - ETA: 0s - loss: 0.4414 - accuracy: 0.8594\n",
      "Epoch 132: saving model to model/keypoint_classifier/keypoint_classifier.hdf5\n",
      "29/29 [==============================] - 0s 2ms/step - loss: 0.5582 - accuracy: 0.7798 - val_loss: 0.2938 - val_accuracy: 0.9466\n",
      "Epoch 133/1000\n",
      " 1/29 [>.............................] - ETA: 0s - loss: 0.4814 - accuracy: 0.7891\n",
      "Epoch 133: saving model to model/keypoint_classifier/keypoint_classifier.hdf5\n",
      "29/29 [==============================] - 0s 2ms/step - loss: 0.5641 - accuracy: 0.7949 - val_loss: 0.2979 - val_accuracy: 0.9450\n",
      "Epoch 134/1000\n",
      " 1/29 [>.............................] - ETA: 0s - loss: 0.5158 - accuracy: 0.8047\n",
      "Epoch 134: saving model to model/keypoint_classifier/keypoint_classifier.hdf5\n",
      "29/29 [==============================] - 0s 2ms/step - loss: 0.5591 - accuracy: 0.7817 - val_loss: 0.3024 - val_accuracy: 0.9361\n",
      "Epoch 135/1000\n",
      " 1/29 [>.............................] - ETA: 0s - loss: 0.5447 - accuracy: 0.7891\n",
      "Epoch 135: saving model to model/keypoint_classifier/keypoint_classifier.hdf5\n",
      "29/29 [==============================] - 0s 3ms/step - loss: 0.5736 - accuracy: 0.7850 - val_loss: 0.2989 - val_accuracy: 0.9475\n"
     ]
    },
    {
     "name": "stdout",
     "output_type": "stream",
     "text": [
      "Epoch 136/1000\n",
      " 1/29 [>.............................] - ETA: 0s - loss: 0.3948 - accuracy: 0.8906\n",
      "Epoch 136: saving model to model/keypoint_classifier/keypoint_classifier.hdf5\n",
      "29/29 [==============================] - 0s 2ms/step - loss: 0.5506 - accuracy: 0.7992 - val_loss: 0.2947 - val_accuracy: 0.9507\n",
      "Epoch 137/1000\n",
      " 1/29 [>.............................] - ETA: 0s - loss: 0.4353 - accuracy: 0.8125\n",
      "Epoch 137: saving model to model/keypoint_classifier/keypoint_classifier.hdf5\n",
      "29/29 [==============================] - 0s 2ms/step - loss: 0.5554 - accuracy: 0.7798 - val_loss: 0.2923 - val_accuracy: 0.9531\n",
      "Epoch 138/1000\n",
      " 1/29 [>.............................] - ETA: 0s - loss: 0.4816 - accuracy: 0.8359\n",
      "Epoch 138: saving model to model/keypoint_classifier/keypoint_classifier.hdf5\n",
      "29/29 [==============================] - 0s 2ms/step - loss: 0.5545 - accuracy: 0.7868 - val_loss: 0.3024 - val_accuracy: 0.9418\n",
      "Epoch 139/1000\n",
      " 1/29 [>.............................] - ETA: 0s - loss: 0.5716 - accuracy: 0.7969\n",
      "Epoch 139: saving model to model/keypoint_classifier/keypoint_classifier.hdf5\n",
      "29/29 [==============================] - 0s 2ms/step - loss: 0.5619 - accuracy: 0.7890 - val_loss: 0.2927 - val_accuracy: 0.9491\n",
      "Epoch 140/1000\n",
      " 1/29 [>.............................] - ETA: 0s - loss: 0.5472 - accuracy: 0.7969\n",
      "Epoch 140: saving model to model/keypoint_classifier/keypoint_classifier.hdf5\n",
      "29/29 [==============================] - 0s 2ms/step - loss: 0.5517 - accuracy: 0.7890 - val_loss: 0.2819 - val_accuracy: 0.9507\n",
      "Epoch 141/1000\n",
      " 1/29 [>.............................] - ETA: 0s - loss: 0.5739 - accuracy: 0.7969\n",
      "Epoch 141: saving model to model/keypoint_classifier/keypoint_classifier.hdf5\n",
      "29/29 [==============================] - 0s 2ms/step - loss: 0.5539 - accuracy: 0.7882 - val_loss: 0.2855 - val_accuracy: 0.9507\n",
      "Epoch 142/1000\n",
      " 1/29 [>.............................] - ETA: 0s - loss: 0.4522 - accuracy: 0.8516\n",
      "Epoch 142: saving model to model/keypoint_classifier/keypoint_classifier.hdf5\n",
      "29/29 [==============================] - 0s 2ms/step - loss: 0.5664 - accuracy: 0.7833 - val_loss: 0.2929 - val_accuracy: 0.9491\n",
      "Epoch 143/1000\n",
      " 1/29 [>.............................] - ETA: 0s - loss: 0.6040 - accuracy: 0.7734\n",
      "Epoch 143: saving model to model/keypoint_classifier/keypoint_classifier.hdf5\n",
      "29/29 [==============================] - 0s 2ms/step - loss: 0.5775 - accuracy: 0.7812 - val_loss: 0.2998 - val_accuracy: 0.9507\n",
      "Epoch 144/1000\n",
      " 1/29 [>.............................] - ETA: 0s - loss: 0.5970 - accuracy: 0.7812\n",
      "Epoch 144: saving model to model/keypoint_classifier/keypoint_classifier.hdf5\n",
      "29/29 [==============================] - 0s 2ms/step - loss: 0.5526 - accuracy: 0.7955 - val_loss: 0.2946 - val_accuracy: 0.9418\n",
      "Epoch 145/1000\n",
      " 1/29 [>.............................] - ETA: 0s - loss: 0.5986 - accuracy: 0.7500\n",
      "Epoch 145: saving model to model/keypoint_classifier/keypoint_classifier.hdf5\n",
      "29/29 [==============================] - 0s 2ms/step - loss: 0.5590 - accuracy: 0.7782 - val_loss: 0.2941 - val_accuracy: 0.9369\n",
      "Epoch 146/1000\n",
      " 1/29 [>.............................] - ETA: 0s - loss: 0.6691 - accuracy: 0.7344\n",
      "Epoch 146: saving model to model/keypoint_classifier/keypoint_classifier.hdf5\n",
      "29/29 [==============================] - 0s 2ms/step - loss: 0.5755 - accuracy: 0.7847 - val_loss: 0.3023 - val_accuracy: 0.9418\n",
      "Epoch 147/1000\n",
      " 1/29 [>.............................] - ETA: 0s - loss: 0.4549 - accuracy: 0.8438\n",
      "Epoch 147: saving model to model/keypoint_classifier/keypoint_classifier.hdf5\n",
      "29/29 [==============================] - 0s 2ms/step - loss: 0.5492 - accuracy: 0.7893 - val_loss: 0.2870 - val_accuracy: 0.9450\n",
      "Epoch 148/1000\n",
      " 1/29 [>.............................] - ETA: 0s - loss: 0.4581 - accuracy: 0.8438\n",
      "Epoch 148: saving model to model/keypoint_classifier/keypoint_classifier.hdf5\n",
      "29/29 [==============================] - 0s 2ms/step - loss: 0.5485 - accuracy: 0.7898 - val_loss: 0.2859 - val_accuracy: 0.9458\n",
      "Epoch 149/1000\n",
      " 1/29 [>.............................] - ETA: 0s - loss: 0.7175 - accuracy: 0.7422\n",
      "Epoch 149: saving model to model/keypoint_classifier/keypoint_classifier.hdf5\n",
      "29/29 [==============================] - 0s 2ms/step - loss: 0.5626 - accuracy: 0.7866 - val_loss: 0.2925 - val_accuracy: 0.9547\n",
      "Epoch 150/1000\n",
      " 1/29 [>.............................] - ETA: 0s - loss: 0.4931 - accuracy: 0.7656\n",
      "Epoch 150: saving model to model/keypoint_classifier/keypoint_classifier.hdf5\n",
      "29/29 [==============================] - 0s 2ms/step - loss: 0.5470 - accuracy: 0.7912 - val_loss: 0.3001 - val_accuracy: 0.9426\n",
      "Epoch 151/1000\n",
      " 1/29 [>.............................] - ETA: 0s - loss: 0.5608 - accuracy: 0.7891\n",
      "Epoch 151: saving model to model/keypoint_classifier/keypoint_classifier.hdf5\n",
      "29/29 [==============================] - 0s 2ms/step - loss: 0.5605 - accuracy: 0.7941 - val_loss: 0.2895 - val_accuracy: 0.9491\n",
      "Epoch 152/1000\n",
      " 1/29 [>.............................] - ETA: 0s - loss: 0.6231 - accuracy: 0.7969\n",
      "Epoch 152: saving model to model/keypoint_classifier/keypoint_classifier.hdf5\n",
      "29/29 [==============================] - 0s 2ms/step - loss: 0.5496 - accuracy: 0.7952 - val_loss: 0.2865 - val_accuracy: 0.9499\n",
      "Epoch 153/1000\n",
      " 1/29 [>.............................] - ETA: 0s - loss: 0.4646 - accuracy: 0.8203\n",
      "Epoch 153: saving model to model/keypoint_classifier/keypoint_classifier.hdf5\n",
      "29/29 [==============================] - 0s 2ms/step - loss: 0.5649 - accuracy: 0.7842 - val_loss: 0.2940 - val_accuracy: 0.9458\n",
      "Epoch 154/1000\n",
      " 1/29 [>.............................] - ETA: 0s - loss: 0.6728 - accuracy: 0.7422\n",
      "Epoch 154: saving model to model/keypoint_classifier/keypoint_classifier.hdf5\n",
      "29/29 [==============================] - 0s 2ms/step - loss: 0.5607 - accuracy: 0.7898 - val_loss: 0.2947 - val_accuracy: 0.9361\n",
      "Epoch 155/1000\n",
      " 1/29 [>.............................] - ETA: 0s - loss: 0.5916 - accuracy: 0.7812\n",
      "Epoch 155: saving model to model/keypoint_classifier/keypoint_classifier.hdf5\n",
      "29/29 [==============================] - 0s 2ms/step - loss: 0.5671 - accuracy: 0.7844 - val_loss: 0.2971 - val_accuracy: 0.9410\n",
      "Epoch 156/1000\n",
      " 1/29 [>.............................] - ETA: 0s - loss: 0.6171 - accuracy: 0.7578\n",
      "Epoch 156: saving model to model/keypoint_classifier/keypoint_classifier.hdf5\n",
      "29/29 [==============================] - 0s 2ms/step - loss: 0.5320 - accuracy: 0.7877 - val_loss: 0.2912 - val_accuracy: 0.9418\n",
      "Epoch 157/1000\n",
      " 1/29 [>.............................] - ETA: 0s - loss: 0.5097 - accuracy: 0.7812\n",
      "Epoch 157: saving model to model/keypoint_classifier/keypoint_classifier.hdf5\n",
      "29/29 [==============================] - 0s 2ms/step - loss: 0.5451 - accuracy: 0.7939 - val_loss: 0.2907 - val_accuracy: 0.9466\n",
      "Epoch 158/1000\n",
      " 1/29 [>.............................] - ETA: 0s - loss: 0.5435 - accuracy: 0.7969\n",
      "Epoch 158: saving model to model/keypoint_classifier/keypoint_classifier.hdf5\n",
      "29/29 [==============================] - 0s 2ms/step - loss: 0.5529 - accuracy: 0.7895 - val_loss: 0.2871 - val_accuracy: 0.9523\n",
      "Epoch 159/1000\n",
      " 1/29 [>.............................] - ETA: 0s - loss: 0.5212 - accuracy: 0.8125\n",
      "Epoch 159: saving model to model/keypoint_classifier/keypoint_classifier.hdf5\n",
      "29/29 [==============================] - 0s 2ms/step - loss: 0.5561 - accuracy: 0.7904 - val_loss: 0.2935 - val_accuracy: 0.9410\n",
      "Epoch 160/1000\n",
      " 1/29 [>.............................] - ETA: 0s - loss: 0.5571 - accuracy: 0.7656\n",
      "Epoch 160: saving model to model/keypoint_classifier/keypoint_classifier.hdf5\n",
      "29/29 [==============================] - 0s 2ms/step - loss: 0.5673 - accuracy: 0.7839 - val_loss: 0.3002 - val_accuracy: 0.9386\n",
      "Epoch 160: early stopping\n"
     ]
    },
    {
     "data": {
      "text/plain": [
       "<keras.callbacks.History at 0x7f3f9c75fc10>"
      ]
     },
     "execution_count": 11,
     "metadata": {},
     "output_type": "execute_result"
    }
   ],
   "source": [
    "model.fit(\n",
    "    X_train,\n",
    "    y_train,\n",
    "    epochs=1000,\n",
    "    batch_size=128,\n",
    "    validation_data=(X_test, y_test),\n",
    "    callbacks=[cp_callback, es_callback]\n",
    ")"
   ]
  },
  {
   "cell_type": "code",
   "execution_count": 12,
   "metadata": {
    "colab": {
     "base_uri": "https://localhost:8080/"
    },
    "id": "pxvb2Y299hE3",
    "outputId": "59eb3185-2e37-4b9e-bc9d-ab1b8ac29b7f"
   },
   "outputs": [
    {
     "name": "stdout",
     "output_type": "stream",
     "text": [
      "10/10 [==============================] - 0s 812us/step - loss: 0.3002 - accuracy: 0.9386\n"
     ]
    }
   ],
   "source": [
    "# Model evaluation\n",
    "val_loss, val_acc = model.evaluate(X_test, y_test, batch_size=128)"
   ]
  },
  {
   "cell_type": "code",
   "execution_count": 13,
   "metadata": {
    "id": "RBkmDeUW9hE4"
   },
   "outputs": [],
   "source": [
    "# Loading the saved model\n",
    "model = tf.keras.models.load_model(model_save_path)"
   ]
  },
  {
   "cell_type": "code",
   "execution_count": 14,
   "metadata": {
    "colab": {
     "base_uri": "https://localhost:8080/"
    },
    "id": "tFz9Tb0I9hE4",
    "outputId": "1c3b3528-54ae-4ee2-ab04-77429211cbef"
   },
   "outputs": [
    {
     "name": "stdout",
     "output_type": "stream",
     "text": [
      "1/1 [==============================] - 0s 46ms/step\n",
      "[9.8118424e-01 1.8603284e-02 1.3360975e-04 6.7474262e-05 1.1509772e-05]\n",
      "0\n"
     ]
    }
   ],
   "source": [
    "# Inference test\n",
    "predict_result = model.predict(np.array([X_test[0]]))\n",
    "print(np.squeeze(predict_result))\n",
    "print(np.argmax(np.squeeze(predict_result)))"
   ]
  },
  {
   "cell_type": "markdown",
   "metadata": {
    "id": "S3U4yNWx9hE4"
   },
   "source": [
    "# Confusion matrix"
   ]
  },
  {
   "cell_type": "code",
   "execution_count": 15,
   "metadata": {
    "colab": {
     "base_uri": "https://localhost:8080/",
     "height": 582
    },
    "id": "AP1V6SCk9hE5",
    "outputId": "08e41a80-7a4a-4619-8125-ecc371368d19"
   },
   "outputs": [
    {
     "name": "stdout",
     "output_type": "stream",
     "text": [
      "39/39 [==============================] - 0s 740us/step\n"
     ]
    },
    {
     "data": {
      "image/png": "[encoded data removed]",
      "text/plain": [
       "<Figure size 700x600 with 2 Axes>"
      ]
     },
     "metadata": {},
     "output_type": "display_data"
    },
    {
     "name": "stdout",
     "output_type": "stream",
     "text": [
      "Classification Report\n",
      "              precision    recall  f1-score   support\n",
      "\n",
      "           0       0.96      0.98      0.97       393\n",
      "           1       0.98      0.86      0.92       377\n",
      "           2       0.87      0.98      0.92       338\n",
      "           3       0.93      0.98      0.95        81\n",
      "           4       0.98      0.88      0.92        48\n",
      "\n",
      "    accuracy                           0.94      1237\n",
      "   macro avg       0.94      0.93      0.94      1237\n",
      "weighted avg       0.94      0.94      0.94      1237\n",
      "\n"
     ]
    }
   ],
   "source": [
    "import pandas as pd\n",
    "import seaborn as sns\n",
    "import matplotlib.pyplot as plt\n",
    "from sklearn.metrics import confusion_matrix, classification_report\n",
    "\n",
    "def print_confusion_matrix(y_true, y_pred, report=True):\n",
    "    labels = sorted(list(set(y_true)))\n",
    "    cmx_data = confusion_matrix(y_true, y_pred, labels=labels)\n",
    "    \n",
    "    df_cmx = pd.DataFrame(cmx_data, index=labels, columns=labels)\n",
    " \n",
    "    fig, ax = plt.subplots(figsize=(7, 6))\n",
    "    sns.heatmap(df_cmx, annot=True, fmt='g' ,square=False)\n",
    "    ax.set_ylim(len(set(y_true)), 0)\n",
    "    plt.show()\n",
    "    \n",
    "    if report:\n",
    "        print('Classification Report')\n",
    "        print(classification_report(y_test, y_pred))\n",
    "\n",
    "Y_pred = model.predict(X_test)\n",
    "y_pred = np.argmax(Y_pred, axis=1)\n",
    "\n",
    "print_confusion_matrix(y_test, y_pred)"
   ]
  },
  {
   "cell_type": "markdown",
   "metadata": {
    "id": "FNP6aqzc9hE5"
   },
   "source": [
    "# Convert to model for Tensorflow-Lite"
   ]
  },
  {
   "cell_type": "code",
   "execution_count": 16,
   "metadata": {
    "id": "ODjnYyld9hE6"
   },
   "outputs": [],
   "source": [
    "# Save as a model dedicated to inference\n",
    "model.save(model_save_path, include_optimizer=False)"
   ]
  },
  {
   "cell_type": "code",
   "execution_count": 17,
   "metadata": {
    "colab": {
     "base_uri": "https://localhost:8080/"
    },
    "id": "zRfuK8Y59hE6",
    "outputId": "a4ca585c-b5d5-4244-8291-8674063209bb"
   },
   "outputs": [
    {
     "name": "stderr",
     "output_type": "stream",
     "text": [
      "WARNING:absl:Found untraced functions such as _update_step_xla while saving (showing 1 of 1). These functions will not be directly callable after loading.\n"
     ]
    },
    {
     "name": "stdout",
     "output_type": "stream",
     "text": [
      "INFO:tensorflow:Assets written to: /tmp/tmp6tvy_93b/assets\n"
     ]
    },
    {
     "name": "stderr",
     "output_type": "stream",
     "text": [
      "INFO:tensorflow:Assets written to: /tmp/tmp6tvy_93b/assets\n",
      "2022-12-10 20:56:38.226468: W tensorflow/compiler/mlir/lite/python/tf_tfl_flatbuffer_helpers.cc:362] Ignored output_format.\n",
      "2022-12-10 20:56:38.226495: W tensorflow/compiler/mlir/lite/python/tf_tfl_flatbuffer_helpers.cc:365] Ignored drop_control_dependency.\n",
      "2022-12-10 20:56:38.226906: I tensorflow/cc/saved_model/reader.cc:45] Reading SavedModel from: /tmp/tmp6tvy_93b\n",
      "2022-12-10 20:56:38.227800: I tensorflow/cc/saved_model/reader.cc:89] Reading meta graph with tags { serve }\n",
      "2022-12-10 20:56:38.227818: I tensorflow/cc/saved_model/reader.cc:130] Reading SavedModel debug info (if present) from: /tmp/tmp6tvy_93b\n",
      "2022-12-10 20:56:38.230469: I tensorflow/compiler/mlir/mlir_graph_optimization_pass.cc:357] MLIR V1 optimization pass is not enabled\n",
      "2022-12-10 20:56:38.231147: I tensorflow/cc/saved_model/loader.cc:229] Restoring SavedModel bundle.\n",
      "2022-12-10 20:56:38.256963: I tensorflow/cc/saved_model/loader.cc:213] Running initialization op on SavedModel bundle at path: /tmp/tmp6tvy_93b\n",
      "2022-12-10 20:56:38.262701: I tensorflow/cc/saved_model/loader.cc:305] SavedModel load for tags { serve }; Status: success: OK. Took 35795 microseconds.\n",
      "2022-12-10 20:56:38.274199: I tensorflow/compiler/mlir/tensorflow/utils/dump_mlir_util.cc:268] disabling MLIR crash reproducer, set env var `MLIR_CRASH_REPRODUCER_DIRECTORY` to enable.\n"
     ]
    },
    {
     "data": {
      "text/plain": [
       "6588"
      ]
     },
     "execution_count": 17,
     "metadata": {},
     "output_type": "execute_result"
    }
   ],
   "source": [
    "# Transform model (quantization)\n",
    "\n",
    "converter = tf.lite.TFLiteConverter.from_keras_model(model)\n",
    "converter.optimizations = [tf.lite.Optimize.DEFAULT]\n",
    "tflite_quantized_model = converter.convert()\n",
    "\n",
    "open(tflite_save_path, 'wb').write(tflite_quantized_model)"
   ]
  },
  {
   "cell_type": "markdown",
   "metadata": {
    "id": "CHBPBXdx9hE6"
   },
   "source": [
    "# Inference test"
   ]
  },
  {
   "cell_type": "code",
   "execution_count": 18,
   "metadata": {
    "id": "mGAzLocO9hE7"
   },
   "outputs": [
    {
     "name": "stderr",
     "output_type": "stream",
     "text": [
      "INFO: Created TensorFlow Lite XNNPACK delegate for CPU.\n"
     ]
    }
   ],
   "source": [
    "interpreter = tf.lite.Interpreter(model_path=tflite_save_path)\n",
    "interpreter.allocate_tensors()"
   ]
  },
  {
   "cell_type": "code",
   "execution_count": 19,
   "metadata": {
    "id": "oQuDK8YS9hE7"
   },
   "outputs": [],
   "source": [
    "# Get I / O tensor\n",
    "input_details = interpreter.get_input_details()\n",
    "output_details = interpreter.get_output_details()"
   ]
  },
  {
   "cell_type": "code",
   "execution_count": 20,
   "metadata": {
    "id": "2_ixAf_l9hE7"
   },
   "outputs": [],
   "source": [
    "interpreter.set_tensor(input_details[0]['index'], np.array([X_test[0]]))"
   ]
  },
  {
   "cell_type": "code",
   "execution_count": 21,
   "metadata": {
    "colab": {
     "base_uri": "https://localhost:8080/"
    },
    "id": "s4FoAnuc9hE7",
    "outputId": "91f18257-8d8b-4ef3-c558-e9b5f94fabbf",
    "scrolled": true
   },
   "outputs": [
    {
     "name": "stdout",
     "output_type": "stream",
     "text": [
      "CPU times: user 189 µs, sys: 23 µs, total: 212 µs\n",
      "Wall time: 133 µs\n"
     ]
    }
   ],
   "source": [
    "%%time\n",
    "# Inference implementation\n",
    "interpreter.invoke()\n",
    "tflite_results = interpreter.get_tensor(output_details[0]['index'])"
   ]
  },
  {
   "cell_type": "code",
   "execution_count": 22,
   "metadata": {
    "colab": {
     "base_uri": "https://localhost:8080/"
    },
    "id": "vONjp19J9hE8",
    "outputId": "77205e24-fd00-42c4-f7b6-e06e527c2cba"
   },
   "outputs": [
    {
     "name": "stdout",
     "output_type": "stream",
     "text": [
      "[9.8118424e-01 1.8603288e-02 1.3360973e-04 6.7474255e-05 1.1509772e-05]\n",
      "0\n"
     ]
    }
   ],
   "source": [
    "print(np.squeeze(tflite_results))\n",
    "print(np.argmax(np.squeeze(tflite_results)))"
   ]
  },
  {
   "cell_type": "code",
   "execution_count": null,
   "metadata": {},
   "outputs": [],
   "source": []
  },
  {
   "cell_type": "code",
   "execution_count": null,
   "metadata": {},
   "outputs": [],
   "source": []
  },
  {
   "cell_type": "code",
   "execution_count": null,
   "metadata": {},
   "outputs": [],
   "source": []
  }
 ],
 "metadata": {
  "accelerator": "GPU",
  "colab": {
   "collapsed_sections": [],
   "name": "keypoint_classification_EN.ipynb",
   "provenance": [],
   "toc_visible": true
  },
  "kernelspec": {
   "display_name": "Python 3 (ipykernel)",
   "language": "python",
   "name": "python3"
  },
  "language_info": {
   "codemirror_mode": {
    "name": "ipython",
    "version": 3
   },
   "file_extension": ".py",
   "mimetype": "text/x-python",
   "name": "python",
   "nbconvert_exporter": "python",
   "pygments_lexer": "ipython3",
   "version": "3.9.13"
  }
 },
 "nbformat": 4,
 "nbformat_minor": 1
}
